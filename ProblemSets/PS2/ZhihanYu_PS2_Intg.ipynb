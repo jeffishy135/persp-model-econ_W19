{
 "cells": [
  {
   "cell_type": "markdown",
   "metadata": {},
   "source": [
    "# Numerical Integration__Zhihan Submission\n",
    "### by [Richard W. Evans](https://sites.google.com/site/rickecon/), January 2019\n",
    "The code in this Jupyter notebook was written using Python 3.6. All references cited in this notebook are fully cited in Section 7 at the end of the notebook."
   ]
  },
  {
   "cell_type": "markdown",
   "metadata": {},
   "source": [
    "## 1. Introduction\n",
    "Integrals of the form $\\int_a^b g(x)dx$ arise often in economic models. One example is the aggregating of consumption amounts of a continuum of differentiated goods $c_t(i)$,\n",
    "\\begin{equation}\\label{NumInt_EqArmAggr}\n",
    "    C_t = \\left(\\int_0^1 \\alpha_i^\\frac{1}{\\varepsilon}c_t(i)^\\frac{\\varepsilon-1}{\\varepsilon}di\\right)^\\frac{\\varepsilon}{\\varepsilon-1}\n",
    "\\end{equation}\n",
    "where $C_t$ is aggregate consumption, $\\alpha_i$ is a weight on the particular amount of consumption of good $i$, $\\varepsilon$ is the constant elasticity of substitution between different goods $i$, and the measure of goods is normalized to be between 0 and 1, without loss of generality. This consumption aggregator is often called the Armington aggregator as it was first proposed in Armington (1969). It is also known as a Dixit-Stiglitz aggregator after its use in Dixit and Stiglitz (1977). Another key example of an integral that often occurs in macroeconomics is the expectations operator on the right-hand-side of the standard intertermporal Euler equation,\n",
    "\\begin{equation}\\label{NumInt_EqEulEx}\n",
    "  \\begin{split}\n",
    "    u'(c_t) &= \\beta E_{z_{t+1}|z_t}\\Bigl[(1+r_{t+1}-\\delta)u'(c_{t+1})\\Bigr] \\\\\n",
    "    \\Rightarrow\\quad u'(c_t) &= \\beta\\int_a^b \\Bigl(1+r_{t+1}(z_{t+1})-\\delta\\Bigr)u'\\Bigl(c_{t+1}(z_{t+1})\\Bigr)f(z_{t+1}|z_t)dz_{t+1}\n",
    "  \\end{split}\n",
    "\\end{equation}\n",
    "where $a$ and $b$ are the bounds of the support of $z_{t+1}$ and $f(z_{t+1}|z_t)$ is the pdf of $z_{t+1}$ that could potentially be conditional on $z_t$.\n",
    "\n",
    "It is a rare convenience when these integrals can be evaluated analytically. However, it does not take much richness in functional form to render analytical solutions impossible for many integrals in economic models. In these cases, the integral must be computed numerically. The following discussion of numerical integration draws from the great treatments of the subject in Heer and Maussner (2009, pp. 598-603), Judd (1998, ch. 7), and Adda and Cooper (2003, pp. 55-60)."
   ]
  },
  {
   "cell_type": "markdown",
   "metadata": {},
   "source": [
    "## 2. Newton-Cotes Quadrature\n",
    "Newton-Cotes quadrature forumalas approximate the integral of a function $\\int_a^b g(x)dx$ by evaluating the function at $N$ equally spaced nodes $\\{x_1,x_2,...x_N\\}$ and weighting those nodes with $N$ weights $\\{\\omega_1,\\omega_2,...\\omega_N\\}$. The general form of Newton-Cotes quadrature forumulas is\n",
    "\\begin{equation}\\label{NumInt_EqNewtCotesGen}\n",
    "  \\int_a^b g(x)dx \\approx \\sum_{n=1}^N\\omega_n g(x_n)\n",
    "\\end{equation}"
   ]
  },
  {
   "cell_type": "markdown",
   "metadata": {},
   "source": [
    "### 2.1. Midpoint rule (1 node)\n",
    "The midpoint rule is the simplest Newton-Cotes formula and uses only one node or evaluation of the function. It is simply a Riemann sum approximation over the domain of the function $g(x)$. The midpoint formula simply evaluates the function at the midpoint of the domain of $x = \\frac{a+b}{2}$ and assumes that the function is a constant at that level over the entire domain of $x\\in[a,b]$.\n",
    "\\begin{equation}\\label{NumInt_EqMidPtRule}\n",
    "  \\int_a^b g(x)dx \\approx (b-a)g\\left(\\frac{a+b}{2}\\right)\n",
    "\\end{equation}"
   ]
  },
  {
   "cell_type": "code",
   "execution_count": 1,
   "metadata": {},
   "outputs": [
    {
     "ename": "FileNotFoundError",
     "evalue": "[Errno 2] No such file or directory: 'images/Riemann_sum_convergence.png'",
     "output_type": "error",
     "traceback": [
      "\u001b[1;31m---------------------------------------------------------------------------\u001b[0m",
      "\u001b[1;31mFileNotFoundError\u001b[0m                         Traceback (most recent call last)",
      "\u001b[1;32m<ipython-input-1-eaff21dd0890>\u001b[0m in \u001b[0;36m<module>\u001b[1;34m\u001b[0m\n\u001b[0;32m      6\u001b[0m        'master/NumIntegr/images/Riemann_sum_convergence.png')\n\u001b[0;32m      7\u001b[0m \u001b[0mimage_file\u001b[0m \u001b[1;33m=\u001b[0m \u001b[0mrequests\u001b[0m\u001b[1;33m.\u001b[0m\u001b[0mget\u001b[0m\u001b[1;33m(\u001b[0m\u001b[0murl\u001b[0m\u001b[1;33m,\u001b[0m \u001b[0mallow_redirects\u001b[0m\u001b[1;33m=\u001b[0m\u001b[1;32mTrue\u001b[0m\u001b[1;33m)\u001b[0m\u001b[1;33m\u001b[0m\u001b[1;33m\u001b[0m\u001b[0m\n\u001b[1;32m----> 8\u001b[1;33m \u001b[0mopen\u001b[0m\u001b[1;33m(\u001b[0m\u001b[1;34m'images/Riemann_sum_convergence.png'\u001b[0m\u001b[1;33m,\u001b[0m \u001b[1;34m'wb'\u001b[0m\u001b[1;33m)\u001b[0m\u001b[1;33m.\u001b[0m\u001b[0mwrite\u001b[0m\u001b[1;33m(\u001b[0m\u001b[0mimage_file\u001b[0m\u001b[1;33m.\u001b[0m\u001b[0mcontent\u001b[0m\u001b[1;33m)\u001b[0m\u001b[1;33m\u001b[0m\u001b[1;33m\u001b[0m\u001b[0m\n\u001b[0m\u001b[0;32m      9\u001b[0m \u001b[0mImage\u001b[0m\u001b[1;33m(\u001b[0m\u001b[1;34m'images/Riemann_sum_convergence.png'\u001b[0m\u001b[1;33m)\u001b[0m\u001b[1;33m\u001b[0m\u001b[1;33m\u001b[0m\u001b[0m\n",
      "\u001b[1;31mFileNotFoundError\u001b[0m: [Errno 2] No such file or directory: 'images/Riemann_sum_convergence.png'"
     ]
    }
   ],
   "source": [
    "import requests\n",
    "from IPython.display import Image\n",
    "\n",
    "# Download and save the data file Riemann_sum_convergence.png\n",
    "url = ('https://raw.githubusercontent.com/rickecon/Notebooks/' +\n",
    "       'master/NumIntegr/images/Riemann_sum_convergence.png')\n",
    "image_file = requests.get(url, allow_redirects=True)\n",
    "open('images/Riemann_sum_convergence.png', 'wb').write(image_file.content)\n",
    "Image('images/Riemann_sum_convergence.png')"
   ]
  },
  {
   "cell_type": "markdown",
   "metadata": {},
   "source": [
    "A more sophisticated midpoint rule is the composite midpoint rule, which breaks up the domain of the function $g(x)$ into $N$ intervals and applies the midpoint rule to each interval. For nodes $x_0,x_1,\\ldots,x_{N-1}$ with $x_i=a+\\frac{(2i+1)(b-a)}{2N}$, the composite midpoint rule is given by\n",
    "\\begin{equation}\\label{NumInt_EqMidPtRuleComp}\n",
    "  \\int_a^b g(x)dx \\approx \\frac{b-a}{N}\\sum_{i=0}^{N-1}g(x_i)\n",
    "\\end{equation}"
   ]
  },
  {
   "cell_type": "code",
   "execution_count": 2,
   "metadata": {},
   "outputs": [
    {
     "ename": "FileNotFoundError",
     "evalue": "[Errno 2] No such file or directory: 'images/MidRiemann2.png'",
     "output_type": "error",
     "traceback": [
      "\u001b[1;31m---------------------------------------------------------------------------\u001b[0m",
      "\u001b[1;31mFileNotFoundError\u001b[0m                         Traceback (most recent call last)",
      "\u001b[1;32m<ipython-input-2-41801fe0a3d1>\u001b[0m in \u001b[0;36m<module>\u001b[1;34m\u001b[0m\n\u001b[0;32m      3\u001b[0m        'master/NumIntegr/images/MidRiemann2.png')\n\u001b[0;32m      4\u001b[0m \u001b[0mimage_file\u001b[0m \u001b[1;33m=\u001b[0m \u001b[0mrequests\u001b[0m\u001b[1;33m.\u001b[0m\u001b[0mget\u001b[0m\u001b[1;33m(\u001b[0m\u001b[0murl\u001b[0m\u001b[1;33m,\u001b[0m \u001b[0mallow_redirects\u001b[0m\u001b[1;33m=\u001b[0m\u001b[1;32mTrue\u001b[0m\u001b[1;33m)\u001b[0m\u001b[1;33m\u001b[0m\u001b[1;33m\u001b[0m\u001b[0m\n\u001b[1;32m----> 5\u001b[1;33m \u001b[0mopen\u001b[0m\u001b[1;33m(\u001b[0m\u001b[1;34m'images/MidRiemann2.png'\u001b[0m\u001b[1;33m,\u001b[0m \u001b[1;34m'wb'\u001b[0m\u001b[1;33m)\u001b[0m\u001b[1;33m.\u001b[0m\u001b[0mwrite\u001b[0m\u001b[1;33m(\u001b[0m\u001b[0mimage_file\u001b[0m\u001b[1;33m.\u001b[0m\u001b[0mcontent\u001b[0m\u001b[1;33m)\u001b[0m\u001b[1;33m\u001b[0m\u001b[1;33m\u001b[0m\u001b[0m\n\u001b[0m\u001b[0;32m      6\u001b[0m \u001b[0mImage\u001b[0m\u001b[1;33m(\u001b[0m\u001b[1;34m'images/MidRiemann2.png'\u001b[0m\u001b[1;33m)\u001b[0m\u001b[1;33m\u001b[0m\u001b[1;33m\u001b[0m\u001b[0m\n",
      "\u001b[1;31mFileNotFoundError\u001b[0m: [Errno 2] No such file or directory: 'images/MidRiemann2.png'"
     ]
    }
   ],
   "source": [
    "# Download and save the data file MidRiemann2.png\n",
    "url = ('https://raw.githubusercontent.com/rickecon/Notebooks/' +\n",
    "       'master/NumIntegr/images/MidRiemann2.png')\n",
    "image_file = requests.get(url, allow_redirects=True)\n",
    "open('images/MidRiemann2.png', 'wb').write(image_file.content)\n",
    "Image('images/MidRiemann2.png')"
   ]
  },
  {
   "cell_type": "markdown",
   "metadata": {},
   "source": [
    "### 2.2. Trapezoid rule (2 nodes)\n",
    "The trapezoid rule estimates the integral as the area under a line that connects the function $g(x)$ at the two endpoints $a$ and $b$.\n",
    "\\begin{equation}\\label{NumInt_EqTrapRule}\n",
    "  \\int_a^b g(x)dx \\approx \\frac{b-a}{2}\\bigl[g(a) + g(b)\\bigr]\n",
    "\\end{equation}\n",
    "\n",
    "A more sophisticated trapezoid rule is the composite trapezoid rule, which breaks up the domain of the function $g(x)$ into $N$ intervals and applies the trapezoid rule to each interval.  For nodes $x_0,x_1,\\ldots,x_N$ with $x_i=a+i(b-a)/N$, the composite trapezoid rule is given by\n",
    "\\begin{equation}\\label{NumInt_EqTrapRuleComp}\n",
    "  \\int_a^b g(x)dx \\approx \\frac{b-a}{2N}\\left[g(x_0) + 2\\sum_{i=1}^{N-1}g(x_i) + g(x_N)\\right]\n",
    "\\end{equation}\n",
    "\n",
    "### 2.3. Simpson's rule (3 nodes)\n",
    "Simpson's rule offers a smooth nonlinear (quadratic) alternative the linear approximations of the midpoint and trapezoid rules. Simpson's rule finds the unique quadratic function in $x$ that passes through the end points and the midpoint of the function $g(a)$, $g\\left(\\frac{a+b}{2}\\right)$, and $g(b)$, which produces the following weights and values.\n",
    "\\begin{equation}\\label{NumInt_EqSimpsRule}\n",
    "  \\int_a^b g(x)dx \\approx \\frac{b-a}{6}\\left[g(a) + 4g\\left(\\frac{a+b}{2}\\right) + g(b)\\right]\n",
    "\\end{equation}\n",
    "\n",
    "Again, a more sophisticated Simpson's rule is the composite Simpson's rule, which breaks up the domain of the function $g(x)$ into $N$ intervals and applies the Simpson's rule to each interval.  For nodes $x_0,x_1,\\ldots,x_{2N}$ with $x_i=a+i(b-a)/(2N)$, the composite Simpson's rule is given by\n",
    "\\begin{equation}\\label{NumInt_EqTrapRuleComp2}\n",
    "  \\int_a^b g(x)dx \\approx \\frac{b-a}{6N}\\left[g(x_0) + 4\\sum_{i=1,3,\\ldots}^{2N-1}g(x_i) + 2\\sum_{i=2,4,\\ldots}^{2N-2}g(x_i) + g(x_{2N})\\right]\n",
    "\\end{equation}\n",
    "\n",
    "### 2.4. Exercises"
   ]
  },
  {
   "cell_type": "markdown",
   "metadata": {},
   "source": [
    "**Exercise 2.1.** You can verify that the analytical solution to the integral of the function\n",
    "\\begin{equation*}\n",
    "  g(x)=0.1x^4 -1.5x^3 + 0.53x^2 + 2x + 1\n",
    "\\end{equation*}\n",
    "between $x=-10$ and $x=10$ is $\\int_{-10}^{10} g(x)dx = 4,373.3\\bar{3}$. Write a Python function that will take as arguments an anonymous function that the user specifies representing $g(x)$, integration bounds $a$ and $b$, the number of intervals $N$, and\n",
    "```python\n",
    "method = {'midpoint', 'trapezoid', 'Simpsons'}\n",
    "```\n",
    "Using the composite methods, evaluate the numerical approximations of the integral $\\int_a^b g(x)dx$ using all three Newton-Cotes methods in your function and compare the difference between the values of these integrals to the true analytical value of the integral."
   ]
  },
  {
   "cell_type": "code",
   "execution_count": 3,
   "metadata": {
    "scrolled": true
   },
   "outputs": [
    {
     "name": "stdout",
     "output_type": "stream",
     "text": [
      "Integration with midpoint method: 4373.333331964724\n",
      "Integration with midpoint method: 4373.333336070682\n",
      "Integration with midpoint method: 4373.333333333173\n"
     ]
    }
   ],
   "source": [
    "import numpy as np\n",
    "\n",
    "def my_input_fnc(x):\n",
    "    y = 0.1*x**4 - 1.5*x**3 + 0.53*x**2 + 2*x + 1\n",
    "    return y\n",
    "\n",
    "\n",
    "def integrt(user_input_fnc, lower, upper, n=1, method='midpoint'):\n",
    "    if method == 'midpoint':\n",
    "        val = 0\n",
    "        for i in range (n):\n",
    "            x_i = lower + (2*i+1)*(upper-lower)/(2*n)\n",
    "            val += user_input_fnc(x_i)\n",
    "        return (upper-lower)/n * val\n",
    "    \n",
    "    if method == 'trapezoid':\n",
    "        val = user_input_fnc(lower) + user_input_fnc(upper)\n",
    "        for i in range (1,n):\n",
    "            x_i = lower + i*(upper-lower)/n\n",
    "            val += 2*user_input_fnc(x_i)\n",
    "        return 0.5*(upper-lower)/n * val\n",
    "    \n",
    "    if method == 'Simpsons':\n",
    "        val = user_input_fnc(lower) + user_input_fnc(upper)\n",
    "        # add up all the odds\n",
    "        for i in range (1, 2*n, 2):\n",
    "            x_i = lower + i*(upper-lower)/(2*n)\n",
    "            val += 4*user_input_fnc(x_i)\n",
    "        # add up all the evens\n",
    "        for i in range (2, 2*n-1, 2):\n",
    "            x_i = lower + i*(upper-lower)/(2*n)\n",
    "            val += 2*user_input_fnc(x_i)\n",
    "        return (upper-lower)/(6*n) * val\n",
    "print(\"Integration with midpoint method: \" + str(integrt(my_input_fnc, -10, 10, 100000, method='midpoint')))\n",
    "print(\"Integration with midpoint method: \" + str(integrt(my_input_fnc, -10, 10, 100000, method='trapezoid')))\n",
    "print(\"Integration with midpoint method: \" + str(integrt(my_input_fnc, -10, 10, 100000, method='Simpsons')))"
   ]
  },
  {
   "cell_type": "markdown",
   "metadata": {},
   "source": [
    "**Exercise 2.2.** Write a Python function that makes a Newton-Cotes discrete approximation of the distribution of the normally distributed variable $Z \\sim N(\\mu,\\sigma)$. Let this function take as arguments the mean $\\mu$, the standard deviation $\\sigma$, the number of equally spaced nodes $N$ to estimate the distribution, and the number of standard deviations $k$ away from $\\mu$ to make the furthest nodes on either side of $\\mu$. Use the [`scipy.stats.norm.cdf`](http://docs.scipy.org/doc/scipy/reference/generated/scipy.stats.norm.html#scipy.stats.norm) command for the cdf of the normal distribution to compute the weights $\\omega_n$ for the nodes $x_n$. Have this function return a vector of nodes of $[Z_1,Z_2,...Z_N]$ and a vector of weights $[\\omega_1,\\omega_2,...\\omega_N]$ such that $\\omega_i$ is given by the integral under the normal distribution between the midpoints of the two closest nodes. Define $f(Z;\\mu,\\sigma)$ as the pdf of the normal distribution and $F(Z;\\mu,\\sigma)$ as the cdf.\n",
    "\\begin{equation*}\n",
    "  \\begin{split}\n",
    "    &\\omega_i =\n",
    "      \\begin{cases}\n",
    "        F\\left(\\frac{Z_1 + Z_2}{2};\\mu,\\sigma\\right) \\quad\\quad\\quad\\quad\\:\\text{if}\\quad i = 1 \\\\\n",
    "        \\int_{Z_{min}}^{Z_{max}}f(Z;\\mu,\\sigma)dZ \\quad\\quad\\:\\:\\text{if}\\quad 1<i<N \\\\\n",
    "        1 - F\\left(\\frac{Z_{N-1} + Z_{N}}{2};\\mu,\\sigma\\right) \\quad\\text{if}\\quad i = N\n",
    "      \\end{cases} \\\\\n",
    "    &\\text{where}\\quad Z_{min} = \\frac{Z_{i-1} + Z_{i}}{2} \\quad\\text{and}\\quad Z_{max} = \\frac{Z_{i} + Z_{i+1}}{2}\n",
    "  \\end{split}\n",
    "\\end{equation*}\n",
    "What are the weights and nodes $\\{\\omega_n,Z_n\\}_{n=1}^N$ for $N=11$?"
   ]
  },
  {
   "cell_type": "code",
   "execution_count": 4,
   "metadata": {},
   "outputs": [
    {
     "name": "stdout",
     "output_type": "stream",
     "text": [
      "The following holds for mu=0, sig=1, k=2:\n",
      "Nodes: [-2.  -1.6 -1.2 -0.8 -0.4  0.   0.4  0.8  1.2  1.6  2. ]\n",
      "Weights: [0.03593031911292579, 0.04436833387178223, 0.0776744219932852, 0.11587662110459314, 0.14730805612132933, 0.15957691216057313, 0.14730805612132936, 0.11587662110459304, 0.07767442199328516, 0.044368333871782205, 0.03593031911292577]\n"
     ]
    }
   ],
   "source": [
    "import numpy as np\n",
    "from scipy.stats import norm\n",
    "\n",
    "def Newton_Cotes(n, mu=0, sig=1, k=2):\n",
    "    Z_vec = np.linspace(mu-k*sig, mu+k*sig, n, endpoint=True)\n",
    "    w_vec = []\n",
    "    for i in range(len(Z_vec)):\n",
    "        if i==0 or i==len(Z_vec)-1:\n",
    "            if i==0:\n",
    "                point = (Z_vec[i] + Z_vec[i+1])/2\n",
    "                w_vec.append(norm.cdf(point, loc=mu, scale=sig))\n",
    "            else:\n",
    "                point = (Z_vec[i-1]+Z_vec[i])/2\n",
    "                w_vec.append(1-norm.cdf(point, loc=mu, scale=sig))\n",
    "        else:\n",
    "            # Within each of these \"intevals\", we integrate over it... I'll use the midpoint method. \n",
    "            lower = (Z_vec[i-1] + Z_vec[i])/2\n",
    "            upper = (Z_vec[i] + Z_vec[i+1])/2\n",
    "            # Calculating the rectangle--take base (upper-lower), multiply by height (evalute Z_vec[i] under normal pdf)\n",
    "            w_vec.append((upper-lower)*norm.pdf(Z_vec[i], loc=mu, scale=sig))\n",
    "    return Z_vec, w_vec\n",
    "print(\"The following holds for mu=0, sig=1, k=2:\")\n",
    "print(\"Nodes: \" + str(Newton_Cotes(11)[0]))\n",
    "print(\"Weights: \" + str(Newton_Cotes(11)[1]))"
   ]
  },
  {
   "cell_type": "markdown",
   "metadata": {},
   "source": [
    "**Exercise 2.3.** If $Z\\sim N(\\mu,\\sigma)$, then $A\\equiv e^Z\\sim LN(\\mu,\\sigma)$ is distributed lognormally and $\\log(A)\\sim N(\\mu,\\sigma)$. Use your knowledge that $A\\equiv e^Z$, $\\log(A)\\sim N(\\mu,\\sigma)$, and your function from Exercise 2.2 to write a function that gives a discrete approximation to the lognormal distribution. Note: You will not end up with evenly spaced nodes $[A_1,A_2,...A_N]$, but your weights should be the same as in Exercise 2.2."
   ]
  },
  {
   "cell_type": "code",
   "execution_count": 5,
   "metadata": {},
   "outputs": [
    {
     "name": "stdout",
     "output_type": "stream",
     "text": [
      "The following holds for mu=0, sig=1, k=2:\n",
      "Nodes: [0.1353352832366127, 0.20189651799465538, 0.30119421191220214, 0.4493289641172217, 0.6703200460356393, 1.0, 1.4918246976412708, 2.2255409284924683, 3.320116922736548, 4.953032424395115, 7.38905609893065]\n",
      "Weights: [0.03752718622807787, 0.045560990824575986, 0.07976237372282813, 0.11899147906220812, 0.1512678166533192, 0.16386646953596756, 0.15126781665331926, 0.11899147906220803, 0.07976237372282811, 0.045560990824575945, 0.03438954909395375]\n"
     ]
    }
   ],
   "source": [
    "# I know mathematically, that the lognormal distribution is exponentiating the Z.\n",
    "from scipy.stats import lognorm\n",
    "\n",
    "def Newton_Cotes_lognorm(n, mu=0, sig=1, k=2):\n",
    "    A_vec = [np.exp(val) for val in Newton_Cotes(n, mu, sig, k)[0]]\n",
    "    w_vec = []\n",
    "    for i in range(len(A_vec)):\n",
    "        if i==0 or i==len(A_vec)-1:\n",
    "            if i==0:\n",
    "                point = (A_vec[i] + A_vec[i+1])/2\n",
    "                w_vec.append(lognorm.cdf(point, s=1, loc=mu, scale=sig))\n",
    "            else:\n",
    "                point = (A_vec[i-1] + A_vec[i])/2\n",
    "                w_vec.append(1-lognorm.cdf(point, s=1, loc=mu, scale=sig))\n",
    "        else:\n",
    "            # Within each of these \"intevals\", we integrate over it... I'll use the midpoint method. \n",
    "            lower = (A_vec[i-1] + A_vec[i])/2\n",
    "            upper = (A_vec[i] + A_vec[i+1])/2\n",
    "            # Calculating the rectangle--take base (upper-lower), multiply by height (evalute Z_vec[i] under normal pdf)\n",
    "            w_vec.append((upper-lower)*lognorm.pdf(A_vec[i],s=1, loc=mu, scale=sig))\n",
    "    return A_vec, w_vec\n",
    "print(\"The following holds for mu=0, sig=1, k=2:\")\n",
    "print(\"Nodes: \" + str(Newton_Cotes_lognorm(11)[0]))\n",
    "print(\"Weights: \" + str(Newton_Cotes_lognorm(11)[1]))"
   ]
  },
  {
   "cell_type": "markdown",
   "metadata": {},
   "source": [
    "If we look at the exact values of the weights, they are not exactly the same... but given that it's an approximation, lets graph it out and we'll see they're pretty darn close."
   ]
  },
  {
   "cell_type": "code",
   "execution_count": 9,
   "metadata": {},
   "outputs": [
    {
     "data": {
      "image/png": "[encoded data removed]",
      "text/plain": [
       "<Figure size 432x288 with 1 Axes>"
      ]
     },
     "metadata": {
      "needs_background": "light"
     },
     "output_type": "display_data"
    }
   ],
   "source": [
    "def plot_to_compare(n, mu=0, sig=1, k=2):\n",
    "    from matplotlib import pyplot as plt\n",
    "\n",
    "    #The data\n",
    "    NormWeights = Newton_Cotes(n)[1]\n",
    "    LogWeights = Newton_Cotes_lognorm(n)[1]\n",
    "    indices = [i for i in range(n)]\n",
    "    #Calculate optimal width\n",
    "    width = np.min(np.diff(indices))/3\n",
    "\n",
    "    fig = plt.figure()\n",
    "    ax = fig.add_subplot(111)\n",
    "    ax.bar(indices-width,NormWeights,width,label='normal')\n",
    "    ax.bar(indices,LogWeights,width,label='lognorm')\n",
    "    plt.xlabel(\"i-th node\")\n",
    "    plt.ylabel(\"i-th weight\")\n",
    "    plt.legend()\n",
    "    plt.show()\n",
    "plot_to_compare(11)"
   ]
  },
  {
   "cell_type": "markdown",
   "metadata": {},
   "source": [
    "**Exercise 2.4.** Let $Y_i$ represent the income of individual $i$ in the United States for all individuals $i$. Assume that income $Y_i$ is lognormally distributed in the U.S. according to $Y_i\\sim LN(\\mu,\\sigma)$, where the mean of log income is $\\mu = 10.5$ and the standard deviation of log income is $\\sigma = 0.8$. Use your function from Exercise 2.3 to compute an approximation of the expected value of income or average income in the U.S. How does your approximation compare to the exact expected value of $E[Y] = e^{\\mu + \\frac{\\sigma^2}{2}}$?"
   ]
  },
  {
   "cell_type": "code",
   "execution_count": 18,
   "metadata": {},
   "outputs": [
    {
     "name": "stdout",
     "output_type": "stream",
     "text": [
      "50011.087008521754\n"
     ]
    },
    {
     "data": {
      "text/plain": [
       "3294.4680752838403"
      ]
     },
     "execution_count": 18,
     "metadata": {},
     "output_type": "execute_result"
    }
   ],
   "source": [
    "def center_estimate(n, mu=0, sig=1, k=3):\n",
    "    val = 0\n",
    "    for index in range (n):\n",
    "        val += Newton_Cotes_lognorm(n, mu, sig, k)[0][index] *  Newton_Cotes_lognorm(n, mu, sig, k)[1][index]\n",
    "    return val\n",
    "\n",
    "tru_val = np.exp(10.5 + (0.8**2/2))\n",
    "print(tru_val)\n",
    "center_estimate(100, 10.5, 0.8)"
   ]
  },
  {
   "cell_type": "markdown",
   "metadata": {},
   "source": [
    "## 3. Gaussian Quadrature"
   ]
  },
  {
   "cell_type": "markdown",
   "metadata": {},
   "source": [
    "### 3.1. Gaussian Quadrature\n",
    "In Newton-Cotes quadrature, the nodes are uniformly spaced. Gaussian quadrature formulas for approximating an integral take the same approximation form $\\int_a^b g(x)dx \\approx \\sum_{n=1}^N\\omega_n g(x_n)$ and optimally choose the weights $\\omega_n$ and unevenly spaced nodes $x_n$ given the total number of nodes $N$ and some approximating polynomial class $h_i(x)$. The $N$ weights and nodes are chosen to make an *exact integration* relationship hold. That is, for polynomials of order $2N-1$ the $N$ weights and nodes must exactly satisfy\n",
    "\\begin{equation}\\label{NumInt_EqGausQuadGen}\n",
    "  \\int_a^b h_i(x)dx = \\sum_{n=1}^N \\omega_n h_i(x_n) \\quad\\text{for}\\quad i=0,1,\\ldots,2N-1\n",
    "\\end{equation}\n",
    "where $h_i(x)$ is an $i$-order polynomial in $x$.  If the $h_i(x)$ form a basis, this means that every polynomial of degree less than or equal to $2N-1$ will be computed exactly using the $N$ weights and $N$ nodes.\n",
    "\n",
    "As a simple example, suppose we want to approximate an arbitrary function $g(x)$ with Gaussian quadrature using a simple class of polynomials $h_i(x) = x^{i}$ and only $N=2$ weights and nodes. The Gaussian quadrature definition equation above implies a system of four equations used to determine the four variables $(\\omega_1,\\omega_2,x_1,x_2)$ to approximate the integral $\\int_a^b g(x)dx \\approx \\sum_{n=1}^N\\omega_n g(x_n)$.\n",
    "\\begin{equation}\\label{NumInt_EqGausQuadN2}\n",
    "  \\begin{split}\n",
    "    &\\int_a^b dx = \\omega_1 + \\omega_2 \\\\\n",
    "    &\\int_a^b x dx = \\omega_1 x_1 + \\omega_2 x_2 \\\\\n",
    "    &\\int_a^b x^2 dx = \\omega_1 x_1^2 + \\omega_2 x_2^2 \\\\\n",
    "    &\\int_a^b x^3 dx = \\omega_1 x_1^3 + \\omega_2 x_2^3\n",
    "  \\end{split}\n",
    "\\end{equation}\n",
    "For $N=2$, the optimal weights and nodes that solve the system above are $(\\omega_1,\\omega_2,x_1,x_2)=(1,1,-0.578,0.578)$. The Python code to solve this nonlinear system could be a simple root finder such as [`scipy.optimize.root`](http://docs.scipy.org/doc/scipy/reference/generated/scipy.optimize.root.html#scipy.optimize.root) or one of the constrained minimizers in [`scipy.optimize.minimize`](http://docs.scipy.org/doc/scipy/reference/generated/scipy.optimize.minimize.html#scipy.optimize.minimize). In general, the spacing of the nodes will not be uniform.\n",
    "\n",
    "The accuracy of the Gaussian quadrature approximation of the integral $\\int_a^b g(x)dx$ increases in the number of nodes $N$. The accuracy of the approximation of the integral can also be improved by the choice of polynomial family $h_i(x)$. In particular, the families of orthonormal polynomials have multiple desirable properties. Because of the orthogonality of their coefficients, the system above is easier to solve due to the lack of collinearity. Also, the weights $\\omega_n$ turn out to be the zeros of the orthogonal polynomial family. Lastly, these orthogonal families of polynomials can give very accurate solutions to integrals of the form $\\int_a^b w(x)g(x)dx$, where $w(x)$ is the weighting function of an orthonormal family of polynomials.\n",
    "\n",
    "For finite integration limits, [`scipy.integrate.quad`](http://docs.scipy.org/doc/scipy/reference/generated/scipy.integrate.quad.html#scipy.integrate.quad) uses a Clenshaw-Curtis method which uses Chebyshev orthogonal polynomials as basis functions and uses corresponding Chebyshev moments. If one of the integration limits is infinite, [`scipy.integrate.quad`](http://docs.scipy.org/doc/scipy/reference/generated/scipy.integrate.quad.html#scipy.integrate.quad) uses Fourier basis functions with the corresponding Fourier moments.\n",
    "\n",
    "For a more detailed discussion of the theory behind Gaussian quadrature, see Judd (1998, pp. 257-265) and Heer and Maussner (2009, pp. 599-601). The general applicability of Gaussian quadrature and its accuracy and efficiency advantage over Newton-Cotes formulas is summarized by Judd (1998, p. 265).\n",
    "> \"Even when the asymptotic rate of convergence for Gaussian quadrature is no better than the comparable Newton-Cotes formula, experience shows that Gaussian formulas often outperform the alternative Newton-Cotes formula [in terms of accuracy].\""
   ]
  },
  {
   "cell_type": "markdown",
   "metadata": {},
   "source": [
    "### 3.2. Exercises"
   ]
  },
  {
   "cell_type": "markdown",
   "metadata": {},
   "source": [
    "**Exercise 3.1.** Approximate the integral of the function in Exercise 2.1 using Gaussian quadrature with $N=3$, $(\\omega_1,\\omega_2,\\omega_3,x_1,x_2,x_3)$. Use the class of polynomials $h_i(x)=x^i$. How does the accuracy of your approximated integral compare to the approximations from Exercise 2.1 and the true known value of the integral?"
   ]
  },
  {
   "cell_type": "code",
   "execution_count": 19,
   "metadata": {},
   "outputs": [
    {
     "name": "stdout",
     "output_type": "stream",
     "text": [
      "4373.3333333564715\n"
     ]
    }
   ],
   "source": [
    "def polynomProj(y):\n",
    "    w1, w2, w3, x1, x2, x3=y\n",
    "    a=-10\n",
    "    b=10\n",
    "    return (w1+w2+w3-b+a, w1*x1+w2*x2+w3*x3 - 0.5*b**2 + 0.5*a**2, \\\n",
    "            w1*x1**2+w2*x2**2+w3*x3**2-(1/3)*b**3+(1/3)*a**3, \\\n",
    "            w1*x1**3+w2*x2**3+w3*x3**3-(1/4)*b**4+(1/4)*a**4, \\\n",
    "            w1*x1**4+w2*x2**4+w3*x3**4-(1/5)*b**5+(1/5)*a**5, \\\n",
    "            w1*x1**5+w2*x2**5+w3*x3**5-(1/6)*b**6+(1/6)*a**6)\n",
    "\n",
    "g = lambda x: (0.1*x**4 - 1.5*x**3 + 0.53*x**2 + 2*x + 1)\n",
    "\n",
    "import scipy.optimize\n",
    "\n",
    "sol = scipy.optimize.root(polynomProj, [1, 1, 1, -4, 0, 4])\n",
    "\n",
    "w1, w2, w3  = sol.x[0:3]\n",
    "x1, x2, x3  = sol.x[3:]\n",
    "\n",
    "X = np.array([w1, w2, w3])\n",
    "W = np.array([x1, x2, x3])\n",
    "\n",
    "gauss = w1*g(x1)+w2*g(x2)+w3*g(x3)\n",
    "print(gauss) \n",
    "# it's pretty good conditional on having decent initialization"
   ]
  },
  {
   "cell_type": "markdown",
   "metadata": {},
   "source": [
    "**Exercise 3.2.** Use the Python Gaussian quadrature command [`scipy.integrate.quad`](http://docs.scipy.org/doc/scipy/reference/generated/scipy.integrate.quad.html#scipy.integrate.quad) to numerically approximate the integral from Exercise 2.1.\n",
    "\\begin{equation*}\n",
    "  \\int_{-10}^{10} g(x)dx \\quad\\text{where}\\quad g(x)=0.1x^4 -1.5x^3 + 0.53x^2 + 2x + 1\n",
    "\\end{equation*}\n",
    "How does the approximated integral using the [`scipy.integrate.quad`](http://docs.scipy.org/doc/scipy/reference/generated/scipy.integrate.quad.html#scipy.integrate.quad) command compare to the exact value of the function?"
   ]
  },
  {
   "cell_type": "code",
   "execution_count": 20,
   "metadata": {},
   "outputs": [
    {
     "name": "stdout",
     "output_type": "stream",
     "text": [
      "The integrated value: 4373.333333333334\n",
      "The absolute error: 8.109531705284936e-11\n"
     ]
    }
   ],
   "source": [
    "from scipy.integrate import quad\n",
    "\n",
    "\n",
    "print(\"The integrated value: \" + str(quad(my_input_fnc, -10, 10)[0]))\n",
    "print(\"The absolute error: \" + str(quad(my_input_fnc, -10, 10)[1]))\n",
    "\n",
    "#It's pretty good!"
   ]
  },
  {
   "cell_type": "markdown",
   "metadata": {},
   "source": [
    "## 4. Monte Carlo Integration\n",
    "High-dimensional integration is highly inefficient using the standard one-dimensional methods of Newton-Cotes and Gaussian quadrature.  The method of choice in high-dimensional settings is known as Monte Carlo Integration.\n",
    "\n",
    "In this section, we detail two types of Monte Carlo integration. The standard Monte Carlo simulation approach in Section 4.1 uses pseudo-randomly generated draws from a uniform distribution over the domain of the function in order to approximate the weights and nodes for integration. The quasi-Monte Carlo approach in Section 4.2 uses elements of low-discrepancy sequences over the domain of the function in order to approximate the integral. Both methods have benefits and drawbacks."
   ]
  },
  {
   "cell_type": "markdown",
   "metadata": {},
   "source": [
    "### 4.1. Standard Monte Carlo integration\n",
    "In the Newton-Cotes quadrature methods of approximating an integral, nodes and weights for the approximation $\\sum_{n=1}^N\\omega_n g(x_n)$ are chosen without much attention to the effect of the placement of these nodes or the levels of the weights on the accuracy of the approximation. Newton-Cotes methods are computationally fast, but lack in accuracy. Gaussian quadrature methods spend more computational time choosing \"optimal\" weights and nodes, but this gives an accuracy payoff over Newton-Cotes formulas. Monte Carlo integration methods use the computationally fast method of drawing uniformly from the support of the variable of integration. These methods depend on a large number of draws to get high accuracy. Judd (1998, pp. 309-311) spends significant time explaining that these methods are more correctly called \"pseudo-Monte Carlo methods\" because they make use of pseudorandom number generators, the use of which cannot invoke the law of large numbers or the central limit theorem. However, the biases introduced by pseudorandom number generators are rarely significant in practice. Although Monte Carlo integration methods do not converge as quickly as Gaussian quadrature methods for functions of one variable, they are especially valuable when integrating over functions of multiple variables.\n",
    "\n",
    "Let $\\Omega\\subset\\mathbb{R}^m$ be the domain of integration. Let $\\mathbf{x}_1, \\mathbf{x}_2, \\ldots, \\mathbf{x}_N$ be $N$ uniform random draws from $\\Omega$. Then we can write the following approximation of the integral.\n",
    "\\begin{equation}\\label{EqMontoCarloIntGen}\n",
    "  \\int_\\Omega g(\\mathbf{x})d\\mathbf{x}\\approx V\\frac{1}{N}\\sum_{n=1}^N g\\left(\\mathbf{x}_n\\right) \\quad\\text{where}\\quad V = \\int_\\Omega d\\mathbf{x}\n",
    "\\end{equation}\n",
    "The equation above says we can approximate the integral of a function $g(\\mathbf{x})$ on a domain $\\Omega$ by taking the average of the evaluations of the function $g$ at $N$ random draws of the vector $\\mathbf{x}_n$ multiplied by the volume of the domain.\n",
    "\n",
    "An easy example of a univariate integral is $\\int_0^1 x\\: dx$ (here $g(\\mathbf{x}) = x$). The Monte Carlo approximation formula for this integral is the following.\n",
    "\\begin{equation}\\label{EqMontCarlIntXdX}\n",
    "  \\int_0^1 x\\: dx \\approx V\\frac{1}{N}\\sum_{n=1}^N x_n = \\frac{1}{N}\\sum_{n=1}^N x_n\n",
    "\\end{equation}\n",
    "It is easy to see that the answer to the exact integral on the left-hand-side of this integral is 1/2. In the approximation on the right-hand-side of this equation, $V$ is the volume of the domain of $x\\in[0,1]$, which is 1. It is straightforward to see that the average of $N$ draws from a uniform distribution between 0 and 1 will converge quickly to 1/2.\n",
    "\n",
    "Exercise 4.1 lets you try your hand at coding a classic Monte Carlo integration approximation of the integral of a function of two variables to approximate the value of $\\pi$. The area of a circle with radius $r=1$ is $\\pi$. A way to visualize the Monte Carlo approximation of the area of that circle, or $\\pi$, is to enclose the circle in a square with sides of length 2, in which the $x$-axis goes from -1 to 1 and the $y$-axis goes from -1 to 1. The points in the Figure are the uniformly distributed random draws from $(x,y)\\in[-1,1]\\times[-1,1]$. Intuitively, the area of the circle is the fraction of the dots (red dots divided by total dots) that are inside the circle or on the boundary of the circle, multiplied by the area or volume of the square in which the circle lies.   "
   ]
  },
  {
   "cell_type": "code",
   "execution_count": 21,
   "metadata": {},
   "outputs": [
    {
     "ename": "FileNotFoundError",
     "evalue": "[Errno 2] No such file or directory: 'images/MonteCarloCircle.png'",
     "output_type": "error",
     "traceback": [
      "\u001b[1;31m---------------------------------------------------------------------------\u001b[0m",
      "\u001b[1;31mFileNotFoundError\u001b[0m                         Traceback (most recent call last)",
      "\u001b[1;32m<ipython-input-21-6b6fedd88fb3>\u001b[0m in \u001b[0;36m<module>\u001b[1;34m\u001b[0m\n\u001b[0;32m      3\u001b[0m        'master/NumIntegr/images/MonteCarloCircle.png')\n\u001b[0;32m      4\u001b[0m \u001b[0mimage_file\u001b[0m \u001b[1;33m=\u001b[0m \u001b[0mrequests\u001b[0m\u001b[1;33m.\u001b[0m\u001b[0mget\u001b[0m\u001b[1;33m(\u001b[0m\u001b[0murl\u001b[0m\u001b[1;33m,\u001b[0m \u001b[0mallow_redirects\u001b[0m\u001b[1;33m=\u001b[0m\u001b[1;32mTrue\u001b[0m\u001b[1;33m)\u001b[0m\u001b[1;33m\u001b[0m\u001b[1;33m\u001b[0m\u001b[0m\n\u001b[1;32m----> 5\u001b[1;33m \u001b[0mopen\u001b[0m\u001b[1;33m(\u001b[0m\u001b[1;34m'images/MonteCarloCircle.png'\u001b[0m\u001b[1;33m,\u001b[0m \u001b[1;34m'wb'\u001b[0m\u001b[1;33m)\u001b[0m\u001b[1;33m.\u001b[0m\u001b[0mwrite\u001b[0m\u001b[1;33m(\u001b[0m\u001b[0mimage_file\u001b[0m\u001b[1;33m.\u001b[0m\u001b[0mcontent\u001b[0m\u001b[1;33m)\u001b[0m\u001b[1;33m\u001b[0m\u001b[1;33m\u001b[0m\u001b[0m\n\u001b[0m\u001b[0;32m      6\u001b[0m \u001b[0mImage\u001b[0m\u001b[1;33m(\u001b[0m\u001b[1;34m'images/MonteCarloCircle.png'\u001b[0m\u001b[1;33m)\u001b[0m\u001b[1;33m\u001b[0m\u001b[1;33m\u001b[0m\u001b[0m\n",
      "\u001b[1;31mFileNotFoundError\u001b[0m: [Errno 2] No such file or directory: 'images/MonteCarloCircle.png'"
     ]
    }
   ],
   "source": [
    "# Download and save the data file MonteCarloCircle.png\n",
    "url = ('https://raw.githubusercontent.com/rickecon/Notebooks/' +\n",
    "       'master/NumIntegr/images/MonteCarloCircle.png')\n",
    "image_file = requests.get(url, allow_redirects=True)\n",
    "open('images/MonteCarloCircle.png', 'wb').write(image_file.content)\n",
    "Image('images/MonteCarloCircle.png')"
   ]
  },
  {
   "cell_type": "markdown",
   "metadata": {},
   "source": [
    "Following the intuition of the previous paragraph and of the figure above, the exact area of the circle can be written as an integral of the indicator function of coordinate variables $x$ and $y$ in the following way.\n",
    "\\begin{equation}\\label{EqMontCarlIntPiCircInd}\n",
    "  \\begin{split}\n",
    "    \\text{Area} &= \\int_\\Omega g(x,y)dx\\,dy = \\pi \\\\\n",
    "    &\\quad\\text{where}\\quad g(x,y) =\n",
    "      \\begin{cases}\n",
    "        1\\quad\\text{if}\\quad x^2 + y^2 \\leq 1 \\\\\n",
    "        0\\quad\\text{else}\n",
    "      \\end{cases} \\quad\\text{and}\\quad \\Omega = [-1,1]\\times[-1,1]\n",
    "  \\end{split}\n",
    "\\end{equation}\n",
    "The exact integral for the area of a unit radius circle can be Monte Carlo approximated using the form above resulting in the following function.\n",
    "\\begin{equation}\\label{EqMontCarlIntPiCirc}\n",
    "  \\int_\\Omega g(x,y)dx\\,dy \\approx 4\\frac{1}{N}\\sum_{n=1}^N g\\left(x_n,y_n\\right)\n",
    "\\end{equation}"
   ]
  },
  {
   "cell_type": "markdown",
   "metadata": {},
   "source": [
    "### 4.2. Quasi-Monte Carlo integration\n",
    "It is important to realize what Monte Carlo methods really are in practice. Due to the impracticality of generating truly \"random\" sequences, Monte Carlo methods utilize pseudorandom sequences. Any sequence generated using a pseudorandom number generator will have a small amount of artificial correlation, and this problem is compounded in higher dimensions.\n",
    "\n",
    "Quasi-Monte Carlo methods dispense with the attempt to create deterministic samples that mimic random samples, and instead embrace their deterministic character. Judd (1998, ch. 9) defines quasi-Monte Carlo methods as sampling methods that do not rely on probabilistic ideas and pseudorandom sequences for constructing the sample and analyzing the estimate. Quasi-Monte Carlo methods use the same approximating function $\\sum_{n=1}^N\\omega_n g(x_n)$, but draw on number theory and Fourier analytic methods to create low-discrepancy sequences that are used as sample points. However, other than the selcetion of sample points, quasi-Monte Carlo integration proceeds in exactly the same way as standard Monte Carlo integration as detailed in the previous section.\n",
    "\n",
    "Many different deterministic sequences can be used in quasi-Monte Carlo sampling.  All of these \"quasirandom\" sequences strive for uniformity in a general sense. Hence it is useful to have a precise way of measuring the degree to which a point set exhibits uniformity. If we have a uniformly distributed sequence $\\mathbf{x}_n$ in the $s$-dimensional unit cube $I^s=[0,1)^s$, we would intuitively expect that every subset of $I^s$ with the same volume would contain the same number of points.  This idea is described precisely by the discrepancy of $\\mathbf{x}_n$. We first define local discrepancy, and then define global discrepancy.\n",
    "\n",
    "For $N$ points $\\{\\mathbf{x}_n\\}_{n=1}^N$ in $I^s$, $s\\geq0$, and $J\\subseteq I^s$, the local discrepancy $D(J;N)$ is defined by\n",
    "\\begin{equation}\\label{EqQMCLocalDiscrep}\n",
    "  D(J;N)=S(J;N)-V(J)N,\n",
    "\\end{equation}\n",
    "where $V(J)$ is the volume of the subinterval $J$ and $S(J;N)$ is the number of points from $\\{\\mathbf{x}_n\\}_{n=1}^N$ that are in $J$.  If the $N$ points are uniformly distributed, then the local discrepancy should be very small for all $J$'s.\n",
    "\n",
    "Finish this section..."
   ]
  },
  {
   "cell_type": "markdown",
   "metadata": {},
   "source": [
    "### 4.3. Exercises\n"
   ]
  },
  {
   "cell_type": "markdown",
   "metadata": {},
   "source": [
    "**Exercise 4.1.** Use Monte Carlo integration to approximate the value of $\\pi$. Define a function in that takes as arguments a function $g(\\mathbf{x})$ of a vector of variables $\\mathbf{x}$, the domain $\\Omega$ of $\\mathbf{x}$, and the number of random draws $N$ and returns the Monte Carlo approximation of the integral $\\int_\\Omega g(\\mathbf{x}) d\\mathbf{x}$. Let $\\Omega$ be a generalized rectangle--width $x$ and height $y$. In order to approximate $\\pi$, let the functional form of the anonymous function be $g(x,y)$ from Section 4.1 with domain $\\Omega = [-1,1]\\times[-1,1]$. What is the smallest number of random draws $N$ from $\\Omega$ that matches the true value of $\\pi$ to the 4th decimal 3.1415? Set the random seed in your uniform random number generator to 25. This will make the correct answer consistent across submissions."
   ]
  },
  {
   "cell_type": "code",
   "execution_count": 22,
   "metadata": {},
   "outputs": [
    {
     "name": "stdout",
     "output_type": "stream",
     "text": [
      "It takes 411 draws to yield roughly 3.1415.\n"
     ]
    }
   ],
   "source": [
    "def montecarlo(fnc, domain, n):\n",
    "    import random\n",
    "    random.seed(25)\n",
    "    total = (domain[1]-domain[0])*(domain[3]-domain[2])\n",
    "    success = 0\n",
    "    for i in range(n):\n",
    "        x = np.zeros(2)\n",
    "        x[0] = random.uniform(domain[0],domain[1])\n",
    "        x[1] = random.uniform(domain[2],domain[3])\n",
    "        success += fnc(x)\n",
    "    return (success/n)*total\n",
    "\n",
    "circle = lambda x: int((x[0])**2 + (x[1])**2 < 1)\n",
    "\n",
    "\n",
    "def numberofDraws_mc(value=3.1415, tol=0.00005):\n",
    "    guess = 5\n",
    "    N = 300\n",
    "    while abs(value-guess) > tol:\n",
    "        guess = montecarlo(circle, [-1, 1, -1, 1], N)\n",
    "        N += 1\n",
    "    return N\n",
    "print(\"It takes \" + str(numberofDraws_mc()) + \" draws to yield roughly 3.1415.\")"
   ]
  },
  {
   "cell_type": "markdown",
   "metadata": {},
   "source": [
    "**Exercise 4.2.** Define a function in that returns the $n$-th element of a $d$-dimensional equidistributed sequence.  It should have support for the four sequences in the Table in Section 4.2."
   ]
  },
  {
   "cell_type": "code",
   "execution_count": 23,
   "metadata": {},
   "outputs": [],
   "source": [
    "def prime(n):\n",
    "    primes = [2]\n",
    "    test = 3\n",
    "    while len(primes) < n:\n",
    "        for p in primes:\n",
    "            if test % p == 0:\n",
    "                break\n",
    "        else:\n",
    "            primes.append(test)\n",
    "        test += 2\n",
    "    return primes[-1]\n",
    "\n",
    "def fractional(n):\n",
    "    return float(n % 1)\n",
    "\n",
    "def equidistributed(n, d, sequence):\n",
    "    if sequence == 'Weyl':\n",
    "        vals = np.zeros(d)\n",
    "        for i in range(d):\n",
    "            vals[i] = fractional(n*np.sqrt(prime(i+1)))\n",
    "        return vals\n",
    "    elif sequence == 'Haber':\n",
    "        vals = np.zeros(d)\n",
    "        for i in range(d):\n",
    "            vals[i] = fractional((n*(n+1)/2)*np.sqrt(prime(i+1)))\n",
    "        return vals\n",
    "    elif sequence == 'Niederreiter':\n",
    "        vals = np.zeros(d)\n",
    "        for i in range(d):\n",
    "            vals[i] = fractional(n*2**((i+1)/(n+1)))\n",
    "        return vals\n",
    "    elif sequence == 'Baker':\n",
    "        vals = np.zeros(d)\n",
    "        for i in range(d):\n",
    "            vals[i] = fractional(n*np.exp(i+1))\n",
    "        return vals "
   ]
  },
  {
   "cell_type": "markdown",
   "metadata": {},
   "source": [
    "**Exercise 4.3** Repeat Exercise 4.1 to approximate the value of $\\pi$, this time using quasi-Monte Carlo integration.  You will need to appropriately scale the equidistributed sequences. Compare the rates of convergence. What is the smallest number of random draws $N$ from $\\Omega$ for the quasi-Monte Carlo integration that matches the true value of $\\pi$ to the 4th decimal 3.1415?. Set the seed in your uniform random number generator to 25. This will make the correct answer consistent across submissions."
   ]
  },
  {
   "cell_type": "code",
   "execution_count": 24,
   "metadata": {},
   "outputs": [
    {
     "name": "stdout",
     "output_type": "stream",
     "text": [
      "It takes 1231 draws to yield roughly 3.1415 (Using Weyl)\n",
      "It takes 2065 draws to yield roughly 3.1415 (Using Haber)\n"
     ]
    }
   ],
   "source": [
    "def quasi_MC(g, domain, N, sequence='Weyl'):\n",
    "    total = (domain[1]-domain[0])*(domain[3]-domain[2])\n",
    "    success = 0\n",
    "    for i in range(N):\n",
    "        x = np.zeros(2)\n",
    "        x[0] = 2*equidistributed(i, 2, sequence)[0]-1\n",
    "        x[1] = 2*equidistributed(i, 2, sequence)[1]-1\n",
    "        success += g(x)\n",
    "    return float((success/N)*total)\n",
    "\n",
    "circle = lambda x: int((x[0])**2 + (x[1])**2 < 1)\n",
    "\n",
    "def numberofDraws_quasiMC(sequence='Weyl', value=3.1415, tol=0.00005):\n",
    "    guess = 5\n",
    "    N = 1\n",
    "    while abs(value-guess) > tol:\n",
    "        guess = quasi_MC(circle, [-1, 1, -1, 1], N, sequence)\n",
    "        N += 1\n",
    "    return N\n",
    "print(\"It takes \" + str(numberofDraws_quasiMC(sequence='Weyl')) + \" draws to yield roughly 3.1415 (Using Weyl)\")\n",
    "print(\"It takes \" + str(numberofDraws_quasiMC(sequence='Haber')) + \" draws to yield roughly 3.1415 (Using Haber)\")"
   ]
  },
  {
   "cell_type": "markdown",
   "metadata": {},
   "source": [
    "## 5. Sparse Grids\n",
    "Put Sparse Grids information here."
   ]
  },
  {
   "cell_type": "markdown",
   "metadata": {},
   "source": [
    "## 6. Discrete Markov Approximation of Continuous AR(1) Process\n",
    "Suppose you have a random shock $z_t$ in your model that has some persistence according to the following AR(1) process.\n",
    "\\begin{equation}\\label{NumInt_EqAR1}\n",
    "  z_{t+1} = \\rho z_{t} + (1-\\rho)\\mu + \\varepsilon_{t+1} \\quad\\text{where}\\quad \\varepsilon_t\\sim N(0,\\sigma) \\quad\\text{and}\\quad \\rho\\in(0,1)\n",
    "\\end{equation}\n",
    "The expected value of $z_{t+1}$ is conditional on the current realization of the shock $E[z_{t+1}|z_t] = \\rho z_{t} + (1-\\rho)\\mu$ but the variance of $z_{t+1}$ is unconditional $Var[z_{t+1}] = \\sigma^2$. The AR(1) process in this equation generates a variable that fluctuates around its mean $\\mu$, and the expected value of the variable tomorrow $E[z_{t+1}|z_t]$ is some convex combination of the variable today $z_t$ and the mean $\\mu$.\n",
    "\n",
    "Typical examples of these types of shocks in economics are shocks to ability, health status, and productivity shocks--all of which exhibit persistence or dependence on recent values. If the shock must be strictly positive, as is the case with productivity shocks, the variable $z_t$ is simply exponentiated.\n",
    "\\begin{equation}\\label{NumInt_EqStochProd}\n",
    "  Y_t = A_t K_t^\\alpha L_t^{1-\\alpha} \\quad\\text{where}\\quad A_t = e^{z_t}\n",
    "\\end{equation}\n",
    "Notice that the variable $A_t$ is lognormally distributed $A_t\\sim LN\\bigl(\\rho z_{t-1} + (1-\\rho)\\mu,\\sigma\\bigr)$ because $\\log(A_t)=z_t$ and $z_t\\sim N\\bigl(\\rho z_{t-1} + (1-\\rho)\\mu,\\sigma\\bigr)$. You made a discretized approximation of the i.i.d. (no persistence) version of this distribution in Exercise 2.3 and estimated average income in the U.S. using it in Exercise 2.4.\n",
    "\n",
    "Tauchen and Hussey (1991) describe a quadrature-based method for producing efficient nodes and probabilities of a discrete first-order Markov process to approximate a continuous AR(1) random variable. Tauchen (1986) details a simpler non-quadrature based method for producing efficient nodes and probabilities of a discrete first-order Markov process to approximate a continuous AR(1) random variable. A classic example of where this discretization is extremely valuable is in the stochastic intertemporal Euler equation from Section 1.\n",
    "\\begin{equation}\\tag{\\ref{NumInt_EqEulEx}}\n",
    "  \\begin{split}\n",
    "    u'(c_t) &^= \\beta E_{z_{t+1}|z_t}\\Bigl[(1+r_{t+1}-\\delta)u'(c_{t+1})\\Bigr] \\\\\n",
    "    \\Rightarrow\\quad u'(c_t) &= \\beta\\int_a^b \\Bigl(1+r_{t+1}(z_{t+1})-\\delta\\Bigr)u'\\Bigl(c_{t+1}(z_{t+1})\\Bigr)f(z_{t+1}|z_t)dz_{t+1}\n",
    "  \\end{split}\n",
    "\\end{equation}\n",
    "The expectation on the right-hand-side of the Euler equation is over $z_{t+1}$ given $z_t$, where $z_{t+1}$ is the AR(1) process described at the beginning of this section. One of the most common nonlinear solution techniques for the functional equations of the dynamic household decision problem characterized by this Euler equation is value function iteration on the following recursive Bellman equation.\n",
    "\\begin{equation}\\label{NumInt_EqBellman}\n",
    "  V(k,z) = \\max_{k'}\\:u(k,z,k') + \\beta E_{z'|z}\\bigl[V(k',z')\\bigr]\n",
    "\\end{equation}\n",
    "\n",
    "The expectation on the right-hand-side of the Bellman equation is simply an integral of the form $E_{z'|z}\\bigl[V(k',z')\\bigr] = \\int_{z'}V(k',z')f(z'|z)dz'$. However, it is difficult to use standard Gaussian quadrature or Monte Carlo integration methods because the value function $V(k',z')$ is often only known at a few points.\n",
    "\n",
    "One solution to this problem is to interpolate or fit some continuous function $\\tilde{V}(k',z')$ to the known points of $V(k',z')$ and then use Gaussian quadrature or Monte Carlo integration to approximate the integral $\\int_{z'}\\tilde{V}(k',z')f(z'|z)dz'$. Heer and Maussner (2008) and Heer and Maussner (2009, p. 237) find that the errors in the extrapolated values of the interpolated function $\\tilde{V}$ beyond the bounds of the known points of $V$ cause the solution to be less accurate than using the Tauchen-Hussey method of approximating $f(z'|z)$ with a discrete first order Markov process."
   ]
  },
  {
   "cell_type": "markdown",
   "metadata": {},
   "source": [
    "## 7. References\n",
    "* Adda, Jerome and Russell Cooper, *Dynamic Economics: Quantitative Methods and Applications*, MIT Press (2003).\n",
    "* Armington, Paul S., \"A Theory of Demand for Products Distinguished by Place of Production,\" IMF Staff Papers, 16:1, March (1969).\n",
    "* Dixit, Avinash K. and Joseph E. Stiglitz, \"Monopolistic Competition and Optimum Product Diversity,\" *American Economic Review*, 67:3, pp. 297-308, June (1977).\n",
    "* Heer, Burkhard and Alfred Maussner, \"Computation of Business Cycle Models: A Comparison of Numerical Methods,\" *Macroeconomic Dynamics*, 12:5, pp.641-663, November (2008).\n",
    "* Heer, Burkhard and Alfred Maussner, *Dynamic General Equilibrium Modeling: Computational Methods and Applications*, 2nd edition, Springer (2009).\n",
    "* Judd, Kenneth L., *Numerical Methods in Economics*, MIT Press, (1998).\n",
    "* Tauchen, George, \"Finite State Markov-chain Approximation to Univariate and Vector Autoregression,\" *Economics Letters*, 20:2, pp. 177-181 (1986).\n",
    "* Tauchen, George and Robert Hussey, \"Quadrature-based Methods for Obtaining Approximate Solutions to Nonlinear Asset Pricing Models,\" *Econometrica*, 59:2, pp. 371-396, March (1991)."
   ]
  }
 ],
 "metadata": {
  "anaconda-cloud": {},
  "kernelspec": {
   "display_name": "Python 3",
   "language": "python",
   "name": "python3"
  },
  "language_info": {
   "codemirror_mode": {
    "name": "ipython",
    "version": 3
   },
   "file_extension": ".py",
   "mimetype": "text/x-python",
   "name": "python",
   "nbconvert_exporter": "python",
   "pygments_lexer": "ipython3",
   "version": "3.7.1"
  }
 },
 "nbformat": 4,
 "nbformat_minor": 1
}
