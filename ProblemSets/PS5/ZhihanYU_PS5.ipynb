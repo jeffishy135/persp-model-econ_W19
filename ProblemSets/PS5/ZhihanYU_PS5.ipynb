{
 "cells": [
  {
   "cell_type": "markdown",
   "metadata": {},
   "source": [
    "# Problem Set 5\n",
    "## [Submitted by Zhihan Yu]\n",
    "\n",
    "### Problem 1 (a)\n",
    "Plotting the data."
   ]
  },
  {
   "cell_type": "code",
   "execution_count": 1,
   "metadata": {},
   "outputs": [],
   "source": [
    "import numpy as np\n",
    "from matplotlib import pyplot as plt"
   ]
  },
  {
   "cell_type": "code",
   "execution_count": 2,
   "metadata": {},
   "outputs": [
    {
     "data": {
      "image/png": "[encoded data removed]",
      "text/plain": [
       "<Figure size 432x288 with 1 Axes>"
      ]
     },
     "metadata": {
      "needs_background": "light"
     },
     "output_type": "display_data"
    }
   ],
   "source": [
    "# Load the data as a NumPy array\n",
    "incomes_dat = np.loadtxt('data/incomes.txt')\n",
    "\n",
    "# Plot the histogram with 30 bins\n",
    "plt.hist(incomes_dat, bins=30, density=True, edgecolor='black')\n",
    "plt.xlabel(\"Income in USD\")\n",
    "plt.ylabel(\"Percentage\")\n",
    "plt.title(\"Graph of Income Distribution\")\n",
    "plt.show()"
   ]
  },
  {
   "cell_type": "markdown",
   "metadata": {},
   "source": [
    "### Problem 1 (b)\n",
    "I wish to estimate the parameters $\\sigma$ and $\\mu$ of log-normal distribution. Specifically, I'll be using the mean and the standard deviation:\n",
    "$$ mean(income_i) = \\frac{1}{N}\\sum_{i=1}^N income_i $$\n",
    "\n",
    "$$ stdev^2(income_i) = var(income_i) = \\frac{1}{N}\\sum_{i=1}^{N} \\left(income_i - mean(income_i)\\right)^2 $$\n",
    "\n",
    "Furthermore, I'll be using the identity matrix as the weighting matrix. Therefore, the GMM estimator is:\n",
    "$$ (\\hat{\\mu}_{GMM},\\hat{\\sigma}_{GMM}) = (\\mu,\\sigma):\\quad \\min_{\\mu,\\sigma} e(income_i|\\mu,\\sigma)^T \\, I \\, e(income_i|\\mu,\\sigma) $$\n"
   ]
  },
  {
   "cell_type": "code",
   "execution_count": 3,
   "metadata": {},
   "outputs": [],
   "source": [
    "def LN_pdf(xvals, mu, sigma):\n",
    "    '''\n",
    "    --------------------------------------------------------------------\n",
    "    This function gives the PDF of the lognormal distribution for xvals\n",
    "    given mu and sigma\n",
    "\n",
    "    (LN): f(x; mu, sigma) = (1 / (x * sigma * sqrt(2 * pi))) *\n",
    "            exp((-1 / 2) * (((log(x) - mu) / sigma) ** 2))\n",
    "            x in [0, infty), mu in (-infty, infty), sigma > 0\n",
    "    --------------------------------------------------------------------\n",
    "    INPUTS:\n",
    "    xvals = (N,) vector, data\n",
    "    mu    = scalar, mean of the ln(x)\n",
    "    sigma = scalar > 0, standard deviation of ln(x)\n",
    "\n",
    "    OTHER FUNCTIONS AND FILES CALLED BY THIS FUNCTION: None\n",
    "\n",
    "    OBJECTS CREATED WITHIN FUNCTION:\n",
    "    pdf_vals        = (N,) vector, probability of each observation given\n",
    "                      the parameter values\n",
    "\n",
    "    FILES CREATED BY THIS FUNCTION: None\n",
    "\n",
    "    RETURNS: pdf_vals\n",
    "    --------------------------------------------------------------------\n",
    "    '''\n",
    "    pdf_vals = np.float64(((1 / (np.sqrt(2 * np.pi) * sigma * xvals)) *\n",
    "                          np.exp((-1.0 / 2.0) *\n",
    "                          (((np.log(xvals) - mu) / sigma) ** 2))))\n",
    "\n",
    "    return pdf_vals"
   ]
  },
  {
   "cell_type": "markdown",
   "metadata": {},
   "source": [
    "To proceed, we need to obtain the moments ($\\mu$ and $\\sigma$) that's generated from the data and from the model. Since we are working with the log normal distribution, the first moment (mean) and second moment (variance) of the distribution is defined as follows (from Wikipedia):\n",
    "\n",
    "$$mean_{lognorm} = exp(\\mu + \\frac{\\sigma^2}{2})$$\n",
    "$$var_{lognorm} = exp(\\sigma^2-1)*exp(2\\mu + \\sigma^2)$$"
   ]
  },
  {
   "cell_type": "code",
   "execution_count": 4,
   "metadata": {},
   "outputs": [],
   "source": [
    "import scipy.stats as sts\n",
    "import scipy.integrate as intgr\n",
    "import scipy.optimize as opt\n",
    "\n",
    "# Moments from data\n",
    "def data_moments(xvals):\n",
    "    '''\n",
    "    --------------------------------------------------------------------\n",
    "    This function computes the two data moments for GMM\n",
    "    (mean(data), variance(data)).\n",
    "    --------------------------------------------------------------------\n",
    "    INPUTS:\n",
    "    xvals = (N,) vector, test scores data\n",
    "    \n",
    "    OTHER FUNCTIONS AND FILES CALLED BY THIS FUNCTION: None\n",
    "    \n",
    "    OBJECTS CREATED WITHIN FUNCTION:\n",
    "    mean_data = scalar, mean value of test scores data\n",
    "    std_data  = scalar > 0, variance of test scores data\n",
    "    \n",
    "    FILES CREATED BY THIS FUNCTION: None\n",
    "    \n",
    "    RETURNS: mean_data, std_data\n",
    "    --------------------------------------------------------------------\n",
    "    '''\n",
    "    mean_data = xvals.mean()\n",
    "    std_data = xvals.std()\n",
    "    \n",
    "    return mean_data, std_data\n",
    "\n",
    "# Moments from model\n",
    "def model_moments(mu, sigma):\n",
    "    '''\n",
    "    --------------------------------------------------------------------\n",
    "    This function gives the two data moments for the lognormal\n",
    "    distribution (mean and standard deviation)\n",
    "    --------------------------------------------------------------------\n",
    "    INPUTS:\n",
    "    mu = float, mean of the lognormal distribution\n",
    "    sigma = float, standard deviation of the lognormal deviation\n",
    "    \n",
    "    RETURNS: mean_model, std_model\n",
    "    '''\n",
    "    mean_model = np.exp(mu + 0.5*sigma**2)\n",
    "    std_model = np.sqrt((np.exp(sigma**2)-1) * np.exp(2*mu+sigma**2))\n",
    "    return mean_model, std_model"
   ]
  },
  {
   "cell_type": "markdown",
   "metadata": {},
   "source": [
    "Now we define the error function that is characterized by the following formula:\n",
    "\n",
    "$$ e(income_i|\\mu,\\sigma) \\equiv \\frac{m(income_i|\\mu,\\sigma) - m(scores_i)}{m(income_i)} $$"
   ]
  },
  {
   "cell_type": "code",
   "execution_count": 5,
   "metadata": {},
   "outputs": [],
   "source": [
    "def err_vec(xvals, mu, sigma, simple):\n",
    "    '''\n",
    "    --------------------------------------------------------------------\n",
    "    This function computes the vector of moment errors (in percent\n",
    "    deviation from the data moment vector) for GMM.\n",
    "    --------------------------------------------------------------------\n",
    "    INPUTS:\n",
    "    xvals  = (N,) vector, test scores data\n",
    "    mu     = scalar, mean of the normally distributed random variable\n",
    "    sigma  = scalar > 0, standard deviation of the normally distributed\n",
    "             random variable\n",
    "    simple = boolean, =True if errors are simple difference, =False if\n",
    "             errors are percent deviation from data moments\n",
    "    \n",
    "    OTHER FUNCTIONS AND FILES CALLED BY THIS FUNCTION:\n",
    "        data_moments()\n",
    "        model_moments()\n",
    "    \n",
    "    OBJECTS CREATED WITHIN FUNCTION:\n",
    "    mean_data  = scalar, mean value of data\n",
    "    std_data   = scalar > 0, variance of data\n",
    "    moms_data  = (2, 1) matrix, column vector of two data moments\n",
    "    mean_model = scalar, mean value from model\n",
    "    std_model  = scalar > 0, variance from model\n",
    "    moms_model = (2, 1) matrix, column vector of two model moments\n",
    "    err_vec    = (2, 1) matrix, column vector of two moment error\n",
    "                 functions\n",
    "    \n",
    "    FILES CREATED BY THIS FUNCTION: None\n",
    "    \n",
    "    RETURNS: err_vec\n",
    "    --------------------------------------------------------------------\n",
    "    '''\n",
    "    mean_data, std_data = data_moments(xvals)\n",
    "    moms_data = np.array([[mean_data], [std_data]])\n",
    "    mean_model, std_model = model_moments(mu, sigma)\n",
    "    moms_model = np.array([[mean_model], [std_model]])\n",
    "    if simple:\n",
    "        err_vec = moms_model - moms_data\n",
    "    else:\n",
    "        err_vec = (moms_model - moms_data) / moms_data\n",
    "    \n",
    "    return err_vec\n",
    "\n",
    "\n",
    "def criterion(params, *args):\n",
    "    '''\n",
    "    --------------------------------------------------------------------\n",
    "    This function computes the GMM weighted sum of squared moment errors\n",
    "    criterion function value given parameter values and an estimate of\n",
    "    the weighting matrix.\n",
    "    --------------------------------------------------------------------\n",
    "    INPUTS:\n",
    "    params = (2,) vector, ([mu, sigma])\n",
    "    mu     = scalar, mean of the normally distributed random variable\n",
    "    sigma  = scalar > 0, standard deviation of the normally distributed\n",
    "             random variable\n",
    "    args   = length 3 tuple, (xvals, cutoff, W_hat)\n",
    "    xvals  = (N,) vector, values of the truncated normally distributed\n",
    "             random variable\n",
    "    W_hat  = (R, R) matrix, estimate of optimal weighting matrix\n",
    "    \n",
    "    OTHER FUNCTIONS AND FILES CALLED BY THIS FUNCTION:\n",
    "        norm_pdf()\n",
    "    \n",
    "    OBJECTS CREATED WITHIN FUNCTION:\n",
    "    err        = (2, 1) matrix, column vector of two moment error\n",
    "                 functions\n",
    "    crit_val   = scalar > 0, GMM criterion function value\n",
    "    \n",
    "    FILES CREATED BY THIS FUNCTION: None\n",
    "    \n",
    "    RETURNS: crit_val\n",
    "    --------------------------------------------------------------------\n",
    "    '''\n",
    "    mu, sigma = params\n",
    "    xvals, W = args\n",
    "    err = err_vec(xvals, mu, sigma, simple=False)\n",
    "    crit_val = err.T @ W @ err\n",
    "    \n",
    "    return crit_val"
   ]
  },
  {
   "cell_type": "markdown",
   "metadata": {},
   "source": [
    "Now we have all the infrastructure set. And we will run the model given the intial settings."
   ]
  },
  {
   "cell_type": "code",
   "execution_count": 6,
   "metadata": {},
   "outputs": [
    {
     "name": "stdout",
     "output_type": "stream",
     "text": [
      "mu_GMM1= 11.33188086698309  sig_GMM1= 0.2086966524682645\n"
     ]
    }
   ],
   "source": [
    "# Run the model\n",
    "mu_init = 11\n",
    "sig_init = 0.5\n",
    "params_init = np.array([mu_init, sig_init])\n",
    "W_hat = np.eye(2)\n",
    "gmm_args = (incomes_dat, W_hat)\n",
    "results = opt.minimize(criterion, params_init, args=(gmm_args), tol=1e-14,\n",
    "                       method='L-BFGS-B', bounds=((1e-10, None), (1e-10, None)))\n",
    "mu_GMM1, sig_GMM1 = results.x\n",
    "results\n",
    "print('mu_GMM1=', mu_GMM1, ' sig_GMM1=', sig_GMM1)"
   ]
  },
  {
   "cell_type": "code",
   "execution_count": 7,
   "metadata": {},
   "outputs": [
    {
     "data": {
      "image/png": "[encoded data removed]",
      "text/plain": [
       "<Figure size 432x288 with 1 Axes>"
      ]
     },
     "metadata": {
      "needs_background": "light"
     },
     "output_type": "display_data"
    },
    {
     "name": "stdout",
     "output_type": "stream",
     "text": [
      "mean_GMM1= 85276.825; standardDev_GMM1= 17992.542\n",
      "mean_data= 85276.824; standardDev_data= 17992.542\n",
      "Error:  [ 2.12961363e-08 -2.34875480e-08]\n",
      "GMM criterion function: [[1.00519033e-15]]\n"
     ]
    }
   ],
   "source": [
    "income_range = np.linspace(0.01, 150000, 30000)\n",
    "\n",
    "plt.hist(incomes_dat, bins=30, density=True, edgecolor='black')\n",
    "plt.xlabel(\"Income in USD\")\n",
    "plt.ylabel(\"Percentage\")\n",
    "plt.title(\"Graph of Income Distribution\")\n",
    "plt.plot(income_range, LN_pdf(income_range, mu_GMM1, sig_GMM1), label=r\"GMM estimate (b)\")\n",
    "plt.legend()\n",
    "plt.show()\n",
    "\n",
    "mean_model1, std_model1 = model_moments(mu_GMM1, sig_GMM1)\n",
    "err1 = err_vec(incomes_dat, mu_GMM1, sig_GMM1, False).reshape(2,)\n",
    "\n",
    "# Reporting the model moments and data moments\n",
    "mean_data, std_data = data_moments(incomes_dat)\n",
    "\n",
    "print('mean_GMM1= %0.3f; standardDev_GMM1= %0.3f' %(mean_model1, std_model1))\n",
    "print('mean_data= %0.3f; standardDev_data= %0.3f'%(mean_data, std_data))\n",
    "print('Error: ', err1)\n",
    "print('GMM criterion function:',results.fun)"
   ]
  },
  {
   "cell_type": "markdown",
   "metadata": {},
   "source": [
    "It should not be suprising to see that the model momemnts and the data moments match up almost exactly at the $10^{-3}$ precision level. This is because we manually set the minimization tolarnce to be very low (at $10^{-14}$)."
   ]
  },
  {
   "cell_type": "markdown",
   "metadata": {},
   "source": [
    "### Problem 1(c)\n",
    "Using the code from class,we need to define a new weighting matrix W. "
   ]
  },
  {
   "cell_type": "code",
   "execution_count": 8,
   "metadata": {},
   "outputs": [
    {
     "name": "stdout",
     "output_type": "stream",
     "text": [
      "Variance Co-Variance Matrix: \n",
      " [[4.45167045e-02 1.68385256e+03]\n",
      " [1.68385256e+03 9.54184435e+08]]\n",
      "New weighting matrix: \n",
      " [[ 2.40701670e+01 -4.24767065e-05]\n",
      " [-4.24767065e-05  1.12297421e-09]]\n"
     ]
    }
   ],
   "source": [
    "def get_Err_mat2(dat, mu, sigma, simple=False):\n",
    "    '''\n",
    "    --------------------------------------------------------------------\n",
    "    This function computes the R x N matrix of errors from each\n",
    "    observation for each moment. In this function, we have hard coded\n",
    "    R = 2.\n",
    "    --------------------------------------------------------------------\n",
    "    INPUTS:\n",
    "    xvals  = (N,) vector, test scores data\n",
    "    mu     = scalar, mean of the normally distributed random variable\n",
    "    sigma  = scalar > 0, standard deviation of the normally distributed\n",
    "             random variable\n",
    "    simple = boolean, =True if errors are simple difference, =False if\n",
    "             errors are percent deviation from data moments\n",
    "    \n",
    "    OTHER FUNCTIONS AND FILES CALLED BY THIS FUNCTION:\n",
    "        model_moments()\n",
    "    \n",
    "    OBJECTS CREATED WITHIN FUNCTION:\n",
    "    R          = integer = 2, hard coded number of moments\n",
    "    N          = integer >= R, number of data observations\n",
    "    Err_mat    = (R, N) matrix, error by moment and observation data\n",
    "    mean_model = scalar, mean value from model\n",
    "    var_model  = scalar > 0, variance from model\n",
    "    \n",
    "    FILES CREATED BY THIS FUNCTION: None\n",
    "    \n",
    "    RETURNS: Err_mat\n",
    "    --------------------------------------------------------------------\n",
    "    '''\n",
    "    R = 2\n",
    "    N = len(dat)\n",
    "    Err_mat = np.zeros((R, N))\n",
    "    mean_model, var_model = model_moments(mu, sigma)\n",
    "    if simple:\n",
    "        Err_mat[0, :] = dat - mean_model\n",
    "        Err_mat[1, :] = ((mean_data - dat) ** 2) - var_model\n",
    "    else:\n",
    "        Err_mat[0, :] = (dat - mean_model) / mean_model\n",
    "        Err_mat[1, :] = (((mean_data - dat) ** 2) - var_model) / var_model\n",
    "    \n",
    "    return Err_mat\n",
    "\n",
    "Err_mat = get_Err_mat2(incomes_dat, mu_GMM1, sig_GMM1, False)\n",
    "VCV2 = (1 / incomes_dat.shape[0]) * (Err_mat @ Err_mat.T)\n",
    "print(\"Variance Co-Variance Matrix: \\n\", VCV2)\n",
    "W_hat2 = np.linalg.inv(VCV2)\n",
    "print(\"New weighting matrix: \\n\", W_hat2)"
   ]
  },
  {
   "cell_type": "markdown",
   "metadata": {},
   "source": [
    "Now that we have the new weighting matrix *W_hat2*, we'll do the exact same exercise as before. "
   ]
  },
  {
   "cell_type": "code",
   "execution_count": 9,
   "metadata": {},
   "outputs": [
    {
     "name": "stdout",
     "output_type": "stream",
     "text": [
      "mu_GMM1= 11.33188086698309  sig_GMM1= 0.2086966524682645\n",
      "mu_GMM2= 11.331880842298686  sig_GMM2= 0.20869664809200128\n"
     ]
    }
   ],
   "source": [
    "# mu_init = 11 (No need to redefine global)\n",
    "# sig_init = 0.5 (No need to redefine global)\n",
    "params_init = np.array([mu_GMM1, sig_GMM1]) \n",
    "gmm_args = (incomes_dat, W_hat2) # Only changed W_hat2 arg.\n",
    "results2= opt.minimize(criterion, params_init, args=(gmm_args), tol=1e-14,\n",
    "                       method='L-BFGS-B', bounds=((1e-10, None), (1e-10, None)))\n",
    "mu_GMM2, sig_GMM2 = results2.x\n",
    "print('mu_GMM1=', mu_GMM1, ' sig_GMM1=', sig_GMM1)\n",
    "print('mu_GMM2=', mu_GMM2, ' sig_GMM2=', sig_GMM2)"
   ]
  },
  {
   "cell_type": "code",
   "execution_count": 10,
   "metadata": {
    "scrolled": false
   },
   "outputs": [
    {
     "name": "stdout",
     "output_type": "stream",
     "text": [
      "mean_GMM1= 85276.825; standardDev_GMM1= 17992.542\n",
      "mean_GMM2= 85276.823; standardDev_GMM2= 17992.541\n",
      "mean_data= 85276.824; standardDev_data= 17992.542\n"
     ]
    },
    {
     "data": {
      "image/png": "[encoded data removed]",
      "text/plain": [
       "<Figure size 432x288 with 1 Axes>"
      ]
     },
     "metadata": {
      "needs_background": "light"
     },
     "output_type": "display_data"
    },
    {
     "name": "stdout",
     "output_type": "stream",
     "text": [
      "Error2:  [-4.30157821e-09 -7.05147256e-08]\n",
      "GMM2 criterion function: [[4.4535838e-16]]\n"
     ]
    }
   ],
   "source": [
    "mean_model2, std_model2 = model_moments(mu_GMM2, sig_GMM2)\n",
    "# Reporting the model moments and data moments\n",
    "\n",
    "print('mean_GMM1= %0.3f; standardDev_GMM1= %0.3f' %(mean_model1, std_model1))\n",
    "print('mean_GMM2= %0.3f; standardDev_GMM2= %0.3f' %(mean_model2, std_model2))\n",
    "print('mean_data= %0.3f; standardDev_data= %0.3f'%(mean_data, std_data))\n",
    "\n",
    "plt.hist(incomes_dat, bins=30, density=True, edgecolor='black')\n",
    "plt.xlabel(\"Income in USD\")\n",
    "plt.ylabel(\"Percentage\")\n",
    "plt.title(\"Graph of Income Distribution\")\n",
    "plt.plot(income_range, LN_pdf(income_range, mu_GMM1, sig_GMM1), label=r\"GMM estimate (b)\")\n",
    "plt.plot(income_range, LN_pdf(income_range, mu_GMM2, sig_GMM2), label=r\"GMM estimate (c)\")\n",
    "plt.legend()\n",
    "plt.show()\n",
    "err2 = err_vec(incomes_dat, mu_GMM2, sig_GMM2, False).reshape(2,)\n",
    "print('Error2: ', err2)\n",
    "print('GMM2 criterion function:',results2.fun)"
   ]
  },
  {
   "cell_type": "markdown",
   "metadata": {},
   "source": [
    "Using a different weighting matrix did seem to make the error lower (eyeballing it--smaller first element while the second element didnt change much.). More concretely, we can just compare the values of the criterion function: the GMM1 Criterion function was on the magnitude of $10^{-16}$, while GMM2 Criterion function is on $10^{-17}$."
   ]
  },
  {
   "cell_type": "markdown",
   "metadata": {},
   "source": [
    "### Problem 1(d)\n",
    "We need to redefine the data and model moments."
   ]
  },
  {
   "cell_type": "code",
   "execution_count": 11,
   "metadata": {},
   "outputs": [],
   "source": [
    "# Generate data moments\n",
    "def data_moments3(xvals):\n",
    "    '''\n",
    "    --------------------------------------------------------------------\n",
    "    This function computes the four data moments for GMM\n",
    "    (binpct_1, binpct_2, binpct_3).\n",
    "    --------------------------------------------------------------------\n",
    "    INPUTS:\n",
    "    xvals = (N,) vector, test scores data\n",
    "\n",
    "    OTHER FUNCTIONS AND FILES CALLED BY THIS FUNCTION: None\n",
    "\n",
    "    OBJECTS CREATED WITHIN FUNCTION:\n",
    "    bpct_1_dat = scalar in [0, 1], percent of observations\n",
    "                 0 <= x < 75000\n",
    "    bpct_2_dat = scalar in [0, 1], percent of observations\n",
    "                 75000 <= x < 100000\n",
    "    bpct_3_dat = scalar in [0, 1], percent of observations\n",
    "                 100000 <= x \n",
    "\n",
    "    FILES CREATED BY THIS FUNCTION: None\n",
    "\n",
    "    RETURNS: bpct_1, bpct_2, bpct_3, bpct_4\n",
    "    --------------------------------------------------------------------\n",
    "    '''\n",
    "    bpct_1_dat = xvals[xvals < 75000].shape[0] / xvals.shape[0]\n",
    "    bpct_2_dat = (xvals[(xvals >=75000) & (xvals < 100000)].shape[0] /\n",
    "                  xvals.shape[0])\n",
    "    bpct_3_dat = xvals[xvals >= 100000].shape[0] / xvals.shape[0]\n",
    "\n",
    "    return bpct_1_dat, bpct_2_dat, bpct_3_dat\n",
    "\n",
    "# Use the previous function of lognorm cdf. The cdf formula is obtained from wikipedia\n",
    "from scipy.special import erf\n",
    "def lognormalcdf(x, mu, sig):\n",
    "    err_msg = \"standard dev. must be positive\"\n",
    "    assert sig > 0, err_msg\n",
    "        \n",
    "    err_msg = \"input must be positive\"\n",
    "    if type(x) == np.array or type(x) == np.ndarray:\n",
    "        assert x.all() > 0, err_msg2\n",
    "    elif type(x) == int or type(x) == float:\n",
    "        assert x > 0, err_msg2\n",
    "    \n",
    "    inerf = (np.log(x) - mu) / (sig * (2 ** 0.5))\n",
    "    rtnval = 0.5 + 0.5 * erf(inerf)\n",
    "    \n",
    "    return rtnval\n",
    "\n",
    "\n",
    "# Find the probabilities of falling in each interval.\n",
    "## * Note since we know the exact functional form of the cdf, i'll not use to .quad method....that's inefficient and unecessary. \n",
    "def model_moments3(mu, sigma):\n",
    "    bpct_1_mod = lognormalcdf(75000, mu, sigma)\n",
    "    bpct_2_mod = lognormalcdf(100000, mu, sigma) - bpct_1_mod\n",
    "    bpct_3_mod = 1 - lognormalcdf(100000, mu, sigma) \n",
    "    return bpct_1_mod, bpct_2_mod, bpct_3_mod"
   ]
  },
  {
   "cell_type": "markdown",
   "metadata": {},
   "source": [
    "Likewise, we need to redefine the error function and criterion function."
   ]
  },
  {
   "cell_type": "code",
   "execution_count": 12,
   "metadata": {},
   "outputs": [],
   "source": [
    "def err_vec3(xvals, mu, sigma, simple):\n",
    "    '''\n",
    "    --------------------------------------------------------------------\n",
    "    This function computes the vector of moment errors (in percent\n",
    "    deviation from the data moment vector) for GMM.\n",
    "    --------------------------------------------------------------------\n",
    "    INPUTS:\n",
    "    xvals  = (N,) vector, test scores data\n",
    "    mu     = scalar, mean of the normally distributed random variable\n",
    "    sigma  = scalar > 0, standard deviation of the normally distributed\n",
    "             random variable\n",
    "    simple = boolean, =True if errors are simple difference, =False if\n",
    "             errors are percent deviation from data moments\n",
    "    \n",
    "    OTHER FUNCTIONS AND FILES CALLED BY THIS FUNCTION:\n",
    "        data_moments3()\n",
    "        model_moments3()\n",
    "    \n",
    "    OBJECTS CREATED WITHIN FUNCTION:\n",
    "    mean_data  = scalar, mean value of data\n",
    "    var_data   = scalar > 0, variance of data\n",
    "    moms_data  = (2, 1) matrix, column vector of two data moments\n",
    "    mean_model = scalar, mean value from model\n",
    "    var_model  = scalar > 0, variance from model\n",
    "    moms_model = (2, 1) matrix, column vector of two model moments\n",
    "    err_vec    = (2, 1) matrix, column vector of two moment error\n",
    "                 functions\n",
    "    \n",
    "    FILES CREATED BY THIS FUNCTION: None\n",
    "    \n",
    "    RETURNS: err_vec\n",
    "    --------------------------------------------------------------------\n",
    "    '''\n",
    "    bpct_1_dat, bpct_2_dat, bpct_3_dat = data_moments3(xvals)\n",
    "    moms_data = np.array([[bpct_1_dat], [bpct_2_dat], [bpct_3_dat]])\n",
    "    bpct_1_mod, bpct_2_mod, bpct_3_mod = model_moments3(mu, sigma)\n",
    "    moms_model = np.array([[bpct_1_mod], [bpct_2_mod], [bpct_3_mod]])\n",
    "    if simple:\n",
    "        err_vec = moms_model - moms_data\n",
    "    else:\n",
    "        err_vec = (moms_model - moms_data) / moms_data\n",
    "    \n",
    "    return err_vec\n",
    "\n",
    "\n",
    "def criterion3(params, *args):\n",
    "    '''\n",
    "    --------------------------------------------------------------------\n",
    "    This function computes the GMM weighted sum of squared moment errors\n",
    "    criterion function value given parameter values and an estimate of\n",
    "    the weighting matrix.\n",
    "    --------------------------------------------------------------------\n",
    "    INPUTS:\n",
    "    params = (2,) vector, ([mu, sigma])\n",
    "    mu     = scalar, mean of the normally distributed random variable\n",
    "    sigma  = scalar > 0, standard deviation of the normally distributed\n",
    "             random variable\n",
    "    args   = length 2 tuple, (xvals, W_hat)\n",
    "    xvals  = (N,) vector, values of the truncated normally distributed\n",
    "             random variable\n",
    "    W_hat  = (R, R) matrix, estimate of optimal weighting matrix\n",
    "    \n",
    "    OTHER FUNCTIONS AND FILES CALLED BY THIS FUNCTION:\n",
    "        err_vec4()\n",
    "    \n",
    "    OBJECTS CREATED WITHIN FUNCTION:\n",
    "    err        = (3, 1) matrix, column vector of four moment error\n",
    "                 functions\n",
    "    crit_val   = scalar > 0, GMM criterion function value\n",
    "    \n",
    "    FILES CREATED BY THIS FUNCTION: None\n",
    "    \n",
    "    RETURNS: crit_val\n",
    "    --------------------------------------------------------------------\n",
    "    '''\n",
    "    mu, sigma = params\n",
    "    xvals, W = args\n",
    "    err = err_vec3(xvals, mu, sigma, simple=False)\n",
    "    crit_val = err.T @ W @ err \n",
    "    \n",
    "    return crit_val"
   ]
  },
  {
   "cell_type": "code",
   "execution_count": 13,
   "metadata": {},
   "outputs": [
    {
     "name": "stdout",
     "output_type": "stream",
     "text": [
      "params from before= [11.33188087  0.20869665]\n",
      "Data Moments:  (0.3, 0.5, 0.2)\n",
      "Model Moments:  (0.30468645806045114, 0.5024798166693349, 0.19283372527021392)\n",
      "Criterion using params so far (part b):  [[0.00155252]]\n"
     ]
    }
   ],
   "source": [
    "params = np.array([mu_GMM1, sig_GMM1])\n",
    "print('params from before=', params)\n",
    "print(\"Data Moments: \", data_moments3(incomes_dat))\n",
    "print(\"Model Moments: \",model_moments3(mu_GMM1, sig_GMM1))\n",
    "print(\"Criterion using params so far (part b): \", criterion3(params, incomes_dat, np.eye(3)))"
   ]
  },
  {
   "cell_type": "markdown",
   "metadata": {},
   "source": [
    "Now let's run the minimization. "
   ]
  },
  {
   "cell_type": "code",
   "execution_count": 14,
   "metadata": {},
   "outputs": [
    {
     "name": "stdout",
     "output_type": "stream",
     "text": [
      "mu_GMM1_3= 11.335681325705682  sig_GMM1_3= 0.21059845293913249\n",
      "Data moments are:  (0.3, 0.5, 0.2)\n",
      "Model moments using mu_GMM1_3, sig_GMM1_3  are:  (0.30000000579420316, 0.5000000068525199, 0.19999998735327695)\n"
     ]
    }
   ],
   "source": [
    "mu_init = 11\n",
    "sig_init = 0.5\n",
    "params_init = np.array([mu_init, sig_init])\n",
    "W_hat1_3 = np.eye(3)\n",
    "gmm_args = (incomes_dat,W_hat1_3)\n",
    "results_3 = opt.minimize(criterion3, params_init, args=(gmm_args),\n",
    "                       method='L-BFGS-B', bounds=((1e-10, None), (1e-10, None)))\n",
    "mu_GMM1_3, sig_GMM1_3 = results_3.x\n",
    "print('mu_GMM1_3=', mu_GMM1_3, ' sig_GMM1_3=', sig_GMM1_3)\n",
    "print('Data moments are: ', data_moments3(incomes_dat))\n",
    "print('Model moments using mu_GMM1_3, sig_GMM1_3  are: ', model_moments3(mu_GMM1_3, sig_GMM1_3))"
   ]
  },
  {
   "cell_type": "markdown",
   "metadata": {},
   "source": [
    "Just looking at the data moments and the model moments, we see that they are awefully close to one another. Let's graph it and see it. Also, we'll look at the errors and criterion functions at this optimized vector of paramters."
   ]
  },
  {
   "cell_type": "code",
   "execution_count": 15,
   "metadata": {},
   "outputs": [
    {
     "data": {
      "image/png": "[encoded data removed]",
      "text/plain": [
       "<Figure size 432x288 with 1 Axes>"
      ]
     },
     "metadata": {
      "needs_background": "light"
     },
     "output_type": "display_data"
    },
    {
     "name": "stdout",
     "output_type": "stream",
     "text": [
      "Error1_3:  [ 1.93140106e-08  1.37050398e-08 -6.32336153e-08]\n",
      "GMM1_3 criterion function: [[4.55934922e-15]]\n"
     ]
    }
   ],
   "source": [
    "plt.hist(incomes_dat, bins=30, density=True, edgecolor='black')\n",
    "plt.xlabel(\"Income in USD\")\n",
    "plt.ylabel(\"Percentage\")\n",
    "plt.title(\"Graph of Income Distribution\")\n",
    "# plt.plot(income_range, LN_pdf(income_range, mu_GMM1, sig_GMM1), label=r\"GMM estimate (b)\")\n",
    "# plt.plot(income_range, LN_pdf(income_range, mu_GMM2, sig_GMM2), label=r\"GMM estimate (c)\")\n",
    "plt.plot(income_range, LN_pdf(income_range, mu_GMM1_3, sig_GMM1_3), label=r\"GMM estimate (d)\")\n",
    "plt.legend()\n",
    "plt.show()\n",
    "\n",
    "err1_3 = err_vec3(incomes_dat, mu_GMM1_3, sig_GMM1_3, False).reshape(3,)\n",
    "print('Error1_3: ', err1_3)\n",
    "print('GMM1_3 criterion function:',results_3.fun)"
   ]
  },
  {
   "cell_type": "markdown",
   "metadata": {},
   "source": [
    "Visually from the graph, its very hard for us to see any significant difference between parts (b) and (c)...But, if use the parameters from (b) to estimate these three moments we see that the value of the criterion function is 0.00155252 (on the magnitude of $10^{-4})$. But, 'correcting' the parameters by performing a GMM estimation, we arrive with the value of the criterion function to be on the magnitude of $10^{-16}$.This is a very significant change!"
   ]
  },
  {
   "cell_type": "markdown",
   "metadata": {},
   "source": [
    "### Problem 1(e)\n",
    "First, we need to set up the new weight matrix."
   ]
  },
  {
   "cell_type": "code",
   "execution_count": 16,
   "metadata": {},
   "outputs": [],
   "source": [
    "def get_Err_mat3(pts, mu, sigma, simple=False):\n",
    "    '''\n",
    "    --------------------------------------------------------------------\n",
    "    This function computes the R x N matrix of errors from each\n",
    "    observation for each moment. In this function, we have hard coded\n",
    "    R = 3.\n",
    "    --------------------------------------------------------------------\n",
    "    INPUTS:\n",
    "    xvals  = (N,) vector, test scores data\n",
    "    mu     = scalar, mean of the normally distributed random variable\n",
    "    sigma  = scalar > 0, standard deviation of the normally distributed\n",
    "             random variable\n",
    "    simple = boolean, =True if errors are simple difference, =False if\n",
    "             errors are percent deviation from data moments\n",
    "    \n",
    "    OTHER FUNCTIONS AND FILES CALLED BY THIS FUNCTION:\n",
    "        model_moments()\n",
    "    \n",
    "    OBJECTS CREATED WITHIN FUNCTION:\n",
    "    R          = 3, hard coded number of moments\n",
    "    N          = integer >= R, number of data observations\n",
    "    Err_mat    = (R, N) matrix, error by moment and observation data\n",
    "    mean_model = scalar, mean value from model\n",
    "    var_model  = scalar > 0, variance from model\n",
    "    \n",
    "    FILES CREATED BY THIS FUNCTION: None\n",
    "    \n",
    "    RETURNS: Err_mat\n",
    "    --------------------------------------------------------------------\n",
    "    '''\n",
    "    R = 3\n",
    "    N = len(pts)\n",
    "    Err_mat = np.zeros((R, N))\n",
    "    pct_1_mod, pct_2_mod, pct_3_mod = model_moments3(mu, sigma)\n",
    "    if simple:\n",
    "        pts_in_grp1 = pts < 75000\n",
    "        Err_mat[0, :] = pts_in_grp1 - pct_1_mod\n",
    "        pts_in_grp2 = (pts >= 75000) & (pts < 100000)\n",
    "        Err_mat[1, :] = pts_in_grp2 - pct_2_mod\n",
    "        pts_in_grp3 = pts >= 100000\n",
    "        Err_mat[2, :] = pts_in_grp3 - pct_3_mod\n",
    "    else:\n",
    "        pts_in_grp1 = pts < 75000\n",
    "        Err_mat[0, :] = (pts_in_grp1 - pct_1_mod) / pct_1_mod\n",
    "        pts_in_grp2 = (pts >= 75000) & (pts < 100000)\n",
    "        Err_mat[1, :] = (pts_in_grp2 - pct_2_mod) / pct_2_mod\n",
    "        pts_in_grp3 = pts >= 100000\n",
    "        Err_mat[2, :] = (pts_in_grp3 - pct_3_mod) / pct_3_mod\n",
    "    \n",
    "    return Err_mat"
   ]
  },
  {
   "cell_type": "code",
   "execution_count": 17,
   "metadata": {},
   "outputs": [
    {
     "name": "stdout",
     "output_type": "stream",
     "text": [
      "Variance Co-Variance Matrix: \n",
      " [[ 0.21 -0.15 -0.06]\n",
      " [-0.15  0.25 -0.1 ]\n",
      " [-0.06 -0.1   0.16]]\n",
      "New weighting matrix: \n",
      " [[ 2.25925926 -0.62962963 -1.62962963]\n",
      " [-0.62962963  1.81481481 -1.18518519]\n",
      " [-1.62962963 -1.18518519  2.81481481]]\n"
     ]
    }
   ],
   "source": [
    "Err_mat3 = get_Err_mat3(incomes_dat, mu_GMM1_3, sig_GMM1_3, True)\n",
    "VCV2_3 = (1 / incomes_dat.shape[0]) * (Err_mat3 @ Err_mat3.T)\n",
    "# We use the pseudo-inverse command here because the VCV matrix is poorly conditioned\n",
    "W_hat2_3 = np.linalg.pinv(VCV2_3)\n",
    "\n",
    "print(\"Variance Co-Variance Matrix: \\n\", VCV2_3)\n",
    "print(\"New weighting matrix: \\n\", W_hat2_3)"
   ]
  },
  {
   "cell_type": "markdown",
   "metadata": {},
   "source": [
    "Optimize again!"
   ]
  },
  {
   "cell_type": "code",
   "execution_count": 18,
   "metadata": {},
   "outputs": [
    {
     "name": "stdout",
     "output_type": "stream",
     "text": [
      "mu_GMM2_3= 11.335681325705682  sig_GMM2_3= 0.21059845293913249\n",
      "Criterion using params so far (part e):  [[1.81400558e-14]]\n",
      "Data moments are:  (0.3, 0.5, 0.2)\n",
      "Model moments using mu_GMM2_3, sig_GMM2_3  are:  (0.30000000579420316, 0.5000000068525199, 0.19999998735327695)\n"
     ]
    }
   ],
   "source": [
    "params_init = np.array([mu_GMM1_3, sig_GMM1_3])\n",
    "gmm_args = (incomes_dat,W_hat2_3)\n",
    "results2_3 = opt.minimize(criterion3, params_init, args=(gmm_args),\n",
    "                       method='L-BFGS-B', bounds=((1e-10, None), (1e-10, None)))\n",
    "mu_GMM2_3, sig_GMM2_3 = results2_3.x\n",
    "print('mu_GMM2_3=', mu_GMM2_3, ' sig_GMM2_3=', sig_GMM2_3)\n",
    "print(\"Criterion using params so far (part e): \", results2_3.fun)\n",
    "print('Data moments are: ', data_moments3(incomes_dat))\n",
    "print('Model moments using mu_GMM2_3, sig_GMM2_3  are: ', model_moments3(mu_GMM2_3, sig_GMM2_3))"
   ]
  },
  {
   "cell_type": "code",
   "execution_count": 19,
   "metadata": {},
   "outputs": [
    {
     "data": {
      "image/png": "[encoded data removed]",
      "text/plain": [
       "<Figure size 432x288 with 1 Axes>"
      ]
     },
     "metadata": {
      "needs_background": "light"
     },
     "output_type": "display_data"
    }
   ],
   "source": [
    "plt.hist(incomes_dat, bins=30, density=True, edgecolor='black')\n",
    "plt.xlabel(\"Income in USD\")\n",
    "plt.ylabel(\"Percentage\")\n",
    "plt.title(\"Graph of Income Distribution\")\n",
    "plt.plot(income_range, LN_pdf(income_range, mu_GMM1_3, sig_GMM1_3), label=r\"GMM estimate (d)\")\n",
    "plt.plot(income_range, LN_pdf(income_range, mu_GMM2_3, sig_GMM2_3), label=r\"GMM estimate (e)\")\n",
    "plt.legend()\n",
    "plt.show()"
   ]
  },
  {
   "cell_type": "markdown",
   "metadata": {},
   "source": [
    "### Problem 1(f)\n",
    "When we select the 'best' model, I it's intuitive to look for the model that yields the lowest value of the criterion function (since we were trying to minimize this). This would point to the result in part (c). This has a criterion value of on the magnitude of $10^{-17})$. "
   ]
  },
  {
   "cell_type": "markdown",
   "metadata": {},
   "source": [
    "## Problem 2\n",
    "Since we are doing a GMM on this linear model, we have 4 criterions to estimate [b0, b1, b2, b3]. It is basically a replication of what we've done in part one, except we use the normal distribution of errors as our 'reference'. "
   ]
  },
  {
   "cell_type": "code",
   "execution_count": 20,
   "metadata": {},
   "outputs": [],
   "source": [
    "import pandas as pd\n",
    "sick_dat = pd.read_csv(\"data/sick.txt\")\n",
    "\n",
    "# Define Error\n",
    "def err_vecOLS(data, b0, b1, b2, b3):\n",
    "    \n",
    "    err_vec = data['sick'] - (b0 + b1 * data['age'] + b2 * data['children'] + b3 * data['avgtemp_winter'])\n",
    "    \n",
    "    return err_vec\n",
    "\n",
    "# Define criterion\n",
    "def criterionOLS(params, *args):\n",
    "\n",
    "    b0, b1, b2, b3 = params\n",
    "    data, W = args\n",
    "    err_vec = err_vecOLS(data, b0, b1, b2, b3)\n",
    "    crit_val = err_vec.T @ W @ err_vec\n",
    "    \n",
    "    return crit_val"
   ]
  },
  {
   "cell_type": "markdown",
   "metadata": {},
   "source": [
    "We could use an agnostic initialization point, but I will try to do the linear regression to give myself an idea of what to do. "
   ]
  },
  {
   "cell_type": "code",
   "execution_count": 21,
   "metadata": {},
   "outputs": [
    {
     "name": "stdout",
     "output_type": "stream",
     "text": [
      "OLSbeta_0 =  0.25164137472290005\n",
      "OLSbeta_1 =  0.012933658720611065\n",
      "OLSbeta_2 =  0.40049939478133745\n",
      "OLSbeta_3 =  -0.009991743362244121\n"
     ]
    }
   ],
   "source": [
    "from sklearn.linear_model import LinearRegression\n",
    "\n",
    "y = np.array(sick_dat['sick'])\n",
    "x = np.array(sick_dat[['age', 'children', 'avgtemp_winter']])\n",
    "lin_reg = LinearRegression().fit(x, y)\n",
    "betas = np.append(np.array(lin_reg.intercept_), lin_reg.coef_)\n",
    "\n",
    "for i in range(4):\n",
    "    print('OLSbeta_%s = '%(i), betas[i])"
   ]
  },
  {
   "cell_type": "markdown",
   "metadata": {},
   "source": [
    "From the linear regression, we see that we can initialize b0, b1, b2, b3 as: (0.25, 0.01, 0.40, 0.00)"
   ]
  },
  {
   "cell_type": "code",
   "execution_count": 22,
   "metadata": {},
   "outputs": [
    {
     "name": "stdout",
     "output_type": "stream",
     "text": [
      "beta_0 = 0.2516447361214882\n",
      "beta_1 = 0.012933451571115355\n",
      "beta_2 = 0.4005011755376142\n",
      "beta_3 = -0.009991696166433153\n",
      "GMM criterion function: 0.001821289817216178\n"
     ]
    }
   ],
   "source": [
    "b0, b1, b2, b3 = (0.25, 0.01, 0.40, 0.00)\n",
    "params_init = np.array([b0, b1, b2, b3])\n",
    "W_hat = np.eye(sick_dat.shape[0])\n",
    "gmm_args = (sick_dat, W_hat)\n",
    "results = opt.minimize(criterionOLS, params_init, args=(gmm_args), tol=1e-14,method='L-BFGS-B')\n",
    "b0_GMM, b1_GMM, b2_GMM, b3_GMM = results.x\n",
    "\n",
    "print('beta_0 =', b0_GMM)\n",
    "print('beta_1 =', b1_GMM)\n",
    "print('beta_2 =', b2_GMM)\n",
    "print('beta_3 =', b3_GMM)\n",
    "print('GMM criterion function:',results.fun)"
   ]
  },
  {
   "cell_type": "markdown",
   "metadata": {},
   "source": [
    "We see that the values are VERY close to one another. We're happy. "
   ]
  }
 ],
 "metadata": {
  "kernelspec": {
   "display_name": "Python 3",
   "language": "python",
   "name": "python3"
  },
  "language_info": {
   "codemirror_mode": {
    "name": "ipython",
    "version": 3
   },
   "file_extension": ".py",
   "mimetype": "text/x-python",
   "name": "python",
   "nbconvert_exporter": "python",
   "pygments_lexer": "ipython3",
   "version": "3.7.2"
  }
 },
 "nbformat": 4,
 "nbformat_minor": 2
}
