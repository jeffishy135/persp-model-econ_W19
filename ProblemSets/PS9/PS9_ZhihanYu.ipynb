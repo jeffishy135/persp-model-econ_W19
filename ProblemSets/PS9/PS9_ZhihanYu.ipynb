{
 "cells": [
  {
   "cell_type": "markdown",
   "metadata": {},
   "source": [
    "# Problem Set 9\n",
    "\n",
    "## Submitted by [Zhihan Yu]\n",
    "\n",
    "### Problem 1(a)"
   ]
  },
  {
   "cell_type": "code",
   "execution_count": 2,
   "metadata": {},
   "outputs": [],
   "source": [
    "import pandas as pd\n",
    "df = pd.read_csv('data/strongdrink.txt')"
   ]
  },
  {
   "cell_type": "code",
   "execution_count": 4,
   "metadata": {},
   "outputs": [
    {
     "data": {
      "image/png": "[encoded data removed]",
      "text/plain": [
       "<Figure size 432x288 with 1 Axes>"
      ]
     },
     "metadata": {
      "needs_background": "light"
     },
     "output_type": "display_data"
    }
   ],
   "source": [
    "import matplotlib.pyplot as plt\n",
    "\n",
    "alco = df['alco']\n",
    "color_int = df['color_int']\n",
    "plt.scatter(alco[df['cultivar']==1],color_int[df['cultivar']==1], \\\n",
    "            color = 'r', label = 'cultivar = 1')\n",
    "plt.scatter(alco[df['cultivar']==2],color_int[df['cultivar']==2], \\\n",
    "            color = 'g', label = 'cultivar = 2')\n",
    "plt.scatter(alco[df['cultivar']==3],color_int[df['cultivar']==3], \\\n",
    "            color = 'k', label = 'cultivar = 3')\n",
    "plt.xlabel('alcohol')\n",
    "plt.ylabel('color indensity')\n",
    "plt.legend()\n",
    "plt.show()\n"
   ]
  },
  {
   "cell_type": "markdown",
   "metadata": {},
   "source": [
    "### Problem 1(b)"
   ]
  },
  {
   "cell_type": "code",
   "execution_count": 9,
   "metadata": {},
   "outputs": [
    {
     "name": "stdout",
     "output_type": "stream",
     "text": [
      "Optimal tuning parameter values: {'C': 2.665871587495725, 'penalty': 'l1'}\n",
      "MSE of optimal result: 0.11931818181818182\n"
     ]
    }
   ],
   "source": [
    "from scipy.stats import uniform as sp_uniform\n",
    "from sklearn.linear_model import LogisticRegression\n",
    "from sklearn.model_selection import RandomizedSearchCV\n",
    "\n",
    "\n",
    "X = df[['alco','malic','tot_phen','color_int']]\n",
    "y = df['cultivar']\n",
    "LR = LogisticRegression(random_state=25)\n",
    "param_dist1 = {'penalty': ['l1', 'l2'], 'C': sp_uniform(0.1, 10.0)}\n",
    "rscv_lr = RandomizedSearchCV(LR, param_dist1, \n",
    "            n_iter=200, n_jobs=-1, cv=5, random_state=25, scoring='neg_mean_squared_error')\n",
    "\n",
    "\n",
    "lr = rscv_lr.fit(X, y)\n",
    "print('Optimal tuning parameter values:', lr.best_params_)\n",
    "print('MSE of optimal result:', abs(lr.best_score_))"
   ]
  },
  {
   "cell_type": "markdown",
   "metadata": {},
   "source": [
    "### Problem 1(c)"
   ]
  },
  {
   "cell_type": "code",
   "execution_count": 11,
   "metadata": {},
   "outputs": [
    {
     "name": "stdout",
     "output_type": "stream",
     "text": [
      "Optimal tuning parameter values: {'max_depth': 2, 'max_features': 1, 'min_samples_leaf': 2, 'min_samples_split': 7, 'n_estimators': 200}\n",
      "MSE of the optimal results: 0.14772727272727273\n"
     ]
    }
   ],
   "source": [
    "from sklearn.ensemble import RandomForestClassifier\n",
    "from scipy.stats import randint as sp_randint\n",
    "\n",
    "param_dist2 = {'n_estimators': [10, 200],\n",
    "               'max_depth': [2, 4],\n",
    "               'min_samples_split': sp_randint(2, 20),\n",
    "               'min_samples_leaf': sp_randint(2, 20),\n",
    "               'max_features': sp_randint(1, 4)}\n",
    "RFC = RandomForestClassifier(random_state=25)\n",
    "rscv_rf = RandomizedSearchCV(RFC, param_dist2, \n",
    "         n_iter=200, n_jobs=-1, cv=5, random_state=25, scoring='neg_mean_squared_error')\n",
    "\n",
    "rf = rscv_rf.fit(X, y)\n",
    "print('Optimal tuning parameter values:', rf.best_params_)\n",
    "print('MSE of the optimal result:', abs(rf.best_score_))"
   ]
  },
  {
   "cell_type": "markdown",
   "metadata": {},
   "source": [
    "### Problem 1(d)"
   ]
  },
  {
   "cell_type": "code",
   "execution_count": 12,
   "metadata": {},
   "outputs": [
    {
     "name": "stdout",
     "output_type": "stream",
     "text": [
      "Optimal tuning parameter values:\n",
      " {'C': 3.3605112613782553, 'gamma': 'scale', 'shrinking': True}\n",
      "MSE of the optimal results: 0.14772727272727273\n"
     ]
    }
   ],
   "source": [
    "from sklearn.svm import SVC\n",
    "\n",
    "param_dist3 = {'C': sp_uniform(loc=0.1, scale=10.0),\n",
    "               'gamma': ['scale', 'auto'],\n",
    "               'shrinking': [True, False]}\n",
    "svc = SVC(random_state=25)\n",
    "rscv_SVC = RandomizedSearchCV(svc, param_dist3, \n",
    "        n_iter=200, n_jobs=-1, cv=5, random_state=25, scoring='neg_mean_squared_error')\n",
    "\n",
    "random_SVC = rscv_SVC.fit(X, y)\n",
    "print('Optimal tuning parameter values:\\n', random_SVC.best_params_)\n",
    "print('MSE of the optimal result:', abs(random_SVC.best_score_))"
   ]
  },
  {
   "cell_type": "markdown",
   "metadata": {},
   "source": [
    "### Problem 1(e)"
   ]
  },
  {
   "cell_type": "code",
   "execution_count": 15,
   "metadata": {},
   "outputs": [
    {
     "name": "stdout",
     "output_type": "stream",
     "text": [
      "Optimal tuning parameter values:\n",
      " {'activation': 'relu', 'alpha': 2.158912119744818, 'hidden_layer_sizes': 68}\n",
      "MSE of the optimal results: 0.19318181818181818\n"
     ]
    }
   ],
   "source": [
    "from sklearn.neural_network import MLPClassifier\n",
    "\n",
    "param_dist4 = {'hidden_layer_sizes': sp_randint(1, 100),\n",
    "               'activation': ['logistic', 'relu'],\n",
    "               'alpha': sp_uniform(0.1, 10.0)}\n",
    "mlp = MLPClassifier(random_state=25)\n",
    "rscv_MLP = RandomizedSearchCV(mlp, param_dist4, \n",
    "        n_iter=200, n_jobs=-1, cv=5, random_state=25, scoring='neg_mean_squared_error')\n",
    "\n",
    "random_MLP = rscv_MLP.fit(X, y)\n",
    "print('Optimal tuning parameter values:\\n', random_MLP.best_params_)\n",
    "print('MSE of the optimal results:', abs(random_MLP.best_score_))"
   ]
  },
  {
   "cell_type": "markdown",
   "metadata": {},
   "source": [
    "### Problem 1(f)\n",
    "\n",
    "Judging from the MSE values, I think the logistic model performs the best because of its lowest MSE value."
   ]
  }
 ],
 "metadata": {
  "kernelspec": {
   "display_name": "Python 3",
   "language": "python",
   "name": "python3"
  },
  "language_info": {
   "codemirror_mode": {
    "name": "ipython",
    "version": 3
   },
   "file_extension": ".py",
   "mimetype": "text/x-python",
   "name": "python",
   "nbconvert_exporter": "python",
   "pygments_lexer": "ipython3",
   "version": "3.7.2"
  }
 },
 "nbformat": 4,
 "nbformat_minor": 2
}
