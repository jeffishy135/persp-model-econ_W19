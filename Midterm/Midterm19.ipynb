{
 "cells": [
  {
   "cell_type": "markdown",
   "metadata": {},
   "source": [
    "# Midterm (MACS 30150), February 11, 2019 [20 points total]\n",
    "### Solutions\n",
    "### [Zhihan Yu]\n",
    "You will have an hour and fifty minutes to take this exam.\n",
    "1. Put your name in the space provided above (without the brackets).\n",
    "2. Download this notebook and accompanying data `MidtermScores.csv`.\n",
    "3. The class will disconnect their wi-fi and begin taking the exam.\n",
    "4. The exam is open computer, closed internet, open note.\n",
    "5. Once you are done, you will signal to a TA or instructor to come over and monitor while you reconnect to the internet and upload your edited notebook to Canvas.\n",
    "\n",
    "Remember that you must clearly indicate your answers to all questions below. We will give partial credit for partially correct answers. The midterm is worth 20 points (2 problem sets)."
   ]
  },
  {
   "cell_type": "markdown",
   "metadata": {},
   "source": [
    "# 1. Symbolic and Numerical Derivatives [10 points total]\n",
    "This exercise will use the following function. In a household savings problem, the marginal utility of consumption is an important function. If a household has a constant relative risk aversion utility function, the marginal utility functional form can be the following:\n",
    "\\begin{equation}\n",
    "  MU(c_t) \\equiv \\bigl(c_t\\bigr)^{-\\sigma}\n",
    "\\end{equation}\n",
    "where $c_t>0$ is current period consumption and $\\sigma\\geq 1$ is the coefficient of constant relative risk aversion.\n",
    "\n",
    "Assume the budget constraint every period is $c_t + b_{t+1} = (1+r_t)b_t + w_t$, where $b_t$ is the initial wealth in period $t$, $b_{t+1}$ is the savings chosen in period $t$ that comes back to the household in period $t+1$ with interest, and $w_t$ is the wage paid on the unit of inelastically supplied labor. Then we can rewrite the marginal utility of consumption above with the budget constraint substituted in.\n",
    "\\begin{equation}\n",
    "  MU = \\Bigl([1 + r_t]b_t + w_t - b_{t+1}\\Bigr)^{-\\sigma}\n",
    "\\end{equation}\n"
   ]
  },
  {
   "cell_type": "markdown",
   "metadata": {},
   "source": [
    "## 1a) Plot the MU(c) function for different consumption values [2 points]\n",
    "Assume that the coefficient of relative risk aversion is $\\sigma = 1.8$. Use Python to plot the marginal utility of consumption for 100 equally spaced consumption values between 0.7 and 5.0. Make sure your plot has an $x$-axis labeled \"consumption\" and a $y$-axis labeled \"marginal utility\"."
   ]
  },
  {
   "cell_type": "code",
   "execution_count": 1,
   "metadata": {},
   "outputs": [
    {
     "data": {
      "text/plain": [
       "<Figure size 640x480 with 1 Axes>"
      ]
     },
     "metadata": {},
     "output_type": "display_data"
    }
   ],
   "source": [
    "# Import dependencies\n",
    "import numpy as np\n",
    "from matplotlib import pyplot as plt\n",
    "\n",
    "\n",
    "# Define sigma\n",
    "sigma = 1.8\n",
    "\n",
    "# 100 equally spaced consumptiuon values between 0.7 and 5.0\n",
    "xvals = np.linspace(0.7, 5.0, 100)\n",
    "\n",
    "# Define the utility function (lambdified)\n",
    "def marginalUtilty(c_t):\n",
    "    return c_t**(-sigma)\n",
    "\n",
    "# Plot my graph\n",
    "plt.plot(xvals, marginalUtilty(xvals))\n",
    "plt.title(r\"Graph of marginal utility with $\\sigma = 1.8$\")\n",
    "plt.ylabel(\"marginal uitlity\")\n",
    "plt.xlabel(\"consumption\")\n",
    "plt.show()"
   ]
  },
  {
   "cell_type": "markdown",
   "metadata": {},
   "source": [
    "## 1b) Symbolic numerical derivative [2 points]\n",
    "Assume the version of the marginal utility above that has the budget constraint substituted in.\n",
    "\\begin{equation}\n",
    "  MU = \\Bigl([1 + r_t]b_t + w_t - b_{t+1}\\Bigr)^{-\\sigma}\n",
    "\\end{equation}\n",
    "Use Python's symbolic math package `sympy` to compute the analytical derivative of the marginal utility function with respect to beginning-of-period wealth $b_t$. This will involve you declaring each variable and parameter as a symbol, then specifying the $MU$ funtion to be differentiated. The solution should be a function of all the variables and parameters $(b_t, b_{t+1}, r_t, w_t, \\sigma)$. Leave the output in the form that `sympy` produces."
   ]
  },
  {
   "cell_type": "code",
   "execution_count": 2,
   "metadata": {},
   "outputs": [
    {
     "name": "stdout",
     "output_type": "stream",
     "text": [
      "-sig*(r + 1)*(-b_next + b_now*(r + 1) + w)**(-sig)/(-b_next + b_now*(r + 1) + w)\n",
      "<class 'sympy.core.mul.Mul'>\n"
     ]
    }
   ],
   "source": [
    "# Import dependency\n",
    "import sympy as sym\n",
    "\n",
    "# Define my function as a string... replace b_t and b_{t+1} to b_now and b_next\n",
    " ## I renamed variable sigma to sig because there is alreadya global var name sigma.. \n",
    "mu_sub_str = '((1+r)*b_now + w - b_next)**(-sig)'\n",
    "\n",
    "# Since I can treat all my other variables (r, w, b_next) as just variables, I'm only going to deal with declaring b_t \n",
    "# as a symbol\n",
    "derivative = sym.diff(sym.sympify(mu_sub_str), sym.symbols('b_now'))\n",
    "\n",
    "print(derivative)\n",
    "print(type(derivative)) # It's a sympy core object"
   ]
  },
  {
   "cell_type": "markdown",
   "metadata": {},
   "source": [
    "## 1c) Write a function that produces the analytical derivative [3 points]\n",
    "Write a function that takes five inputs which are the values for the variables and parameters of the marginal utility $(b_t, b_{t+1}, r_t, w_t, \\sigma)$ and returns the analytical derivative of the marginal utility (scalar) with respect to beginning-of-period wealth $b_t$ associated with those values. Show your function definition in the cell below. Name your function `dMU_c`. Print out the value of the function for the following three combinations of variables and parameters.\n",
    "\n",
    "$$ \\frac{\\partial MU_1}{\\partial b_t}:\\quad b_t=1.0, \\:\\: b_{t+1}=0.8, \\:\\: r_t=0.04, \\:\\: w_t=1.2, \\:\\: \\sigma=2.2 $$\n",
    "\n",
    "$$ \\frac{\\partial MU_2}{\\partial b_t}:\\quad b_t=5.0, \\:\\: b_{t+1}=2.1, \\:\\: r_t=0.01, \\:\\: w_t=1.8, \\:\\: \\sigma=2.0 $$\n",
    "\n",
    "$$ \\frac{\\partial MU_3}{\\partial b_t}:\\quad b_t=3.3, \\:\\: b_{t+1}=3.4, \\:\\: r_t=0.03, \\:\\: w_t=1.0, \\:\\: \\sigma=1.8 $$"
   ]
  },
  {
   "cell_type": "code",
   "execution_count": 3,
   "metadata": {},
   "outputs": [
    {
     "name": "stdout",
     "output_type": "stream",
     "text": [
      "With the parameters bt=1.0...:  -0.7123542921746638\n",
      "With the parameters bt=5.0...:  -0.018848228604752878\n",
      "With the parameters bt=3.3...:  -1.8592010790841615\n"
     ]
    }
   ],
   "source": [
    "# Let's first lambdify the derivative.\n",
    "# Two approaches can be taken: 1) use sympy lambdify (this is very useful for generalized solutions)\n",
    "#                              2) write out a function that takes in values for the five variables and return the calcualted value\n",
    "# Since this test is a one-time thing. I'll go with method 2. It's just copy-pasting. \n",
    "\n",
    "def dMU_c(b_now, b_next, r, w, sig):\n",
    "    # copy paste from above output...output[2]\n",
    "    return (-sig*(r + 1)*(-b_next + b_now*(r + 1) + w)**(-sig)/(-b_next + b_now*(r + 1) + w)) \n",
    "\n",
    "print(\"With the parameters bt=1.0...: \", dMU_c(1.0, 0.8, 0.04, 1.2, 2.2))\n",
    "print(\"With the parameters bt=5.0...: \", dMU_c(5.0, 2.1, 0.01, 1.8, 2.0))\n",
    "print(\"With the parameters bt=3.3...: \", dMU_c(3.3, 3.4, 0.03, 1.0, 1.8))"
   ]
  },
  {
   "cell_type": "markdown",
   "metadata": {},
   "source": [
    "## 1d) Compute the numerical derivative approximation [3 points]\n",
    "Use the centered second-order finite difference approximation of the derivative to calculate the numerical derivative of the marginal utility function.\n",
    "\n",
    "$$ f'(x_0)\\approx \\frac{\\bigl(f(x_0 + h)\\bigr) - \\bigl(f(x_0 - h)\\bigr)}{2h} $$\n",
    "\n",
    "Recall that our marginal utility function is a function of four variables and the parameter $\\sigma$.\n",
    "\\begin{equation}\n",
    "  MU = \\Bigl([1 + r_t]b_t + w_t - b_{t+1}\\Bigr)^{-\\sigma}\n",
    "\\end{equation}\n",
    "So we want to approximate the derivative of the marginal utility with respect to beginning-of-period wealth $\\partial MU(c)/\\partial b_t$ by using the centered second-order finite difference approximation above. A helpful hint on how to do this is the marginal utility function is like $f(x)$ and the derivative is the centered second-order approximation equation.\n",
    "\n",
    "Define a function named `dMU_c_approx` that takes as inputs the five variables and parameters $(b_t, b_{t+1}, r_t, w_t, \\sigma)$ as well as a finite difference amount $h$. Have this function return the centered second-order approximation of the derivative of the marginal utility function with respect to beginning-of-period wealth.\n",
    "\n",
    "Using your `dMU_c` function from part (c), print the analytical derivative of the marginal utility function with respect to beginning-of-period wealth with the following parameterization.\n",
    "\n",
    "$$ \\frac{\\partial MU}{\\partial b_t}:\\quad b_t=1.0, \\:\\: b_{t+1}=0.8, \\:\\: r_t=0.04, \\:\\: w_t=1.2, \\:\\: \\sigma=2.2 $$\n",
    "\n",
    "Use your `dMU_c_approx` function to print out the numerical approximation of the derivative for the specification above with the following three finite difference amounts: $h_1 = 0.1$, $h_2= 0.001$ and  $h_3=0.00001$."
   ]
  },
  {
   "cell_type": "code",
   "execution_count": 4,
   "metadata": {},
   "outputs": [
    {
     "name": "stdout",
     "output_type": "stream",
     "text": [
      "Sympoblic Differentiation solution:  -0.7123542921746638\n",
      "-------------------------\n",
      "Centered Second Approximation solution (h=0.1):  -0.720747904181559\n",
      "Centered Second Approximation solution (h=0.001):  -0.7123551244865578\n",
      "Centered Second Approximation solution (h=0.00001):  -0.7123542922538028\n"
     ]
    }
   ],
   "source": [
    "# now it's easier to use the sympy lamdify.\n",
    "MU_lamb = sym.lambdify([sym.symbols('b_now'), sym.symbols('b_next'), sym.symbols('r'), sym.symbols('w'), \\\n",
    "                        sym.symbols('sig')], sym.sympify(mu_sub_str))\n",
    "\n",
    "# Centered Second Order Difference Quotient\n",
    "def dMU_c_approx(values, step):\n",
    "    \"\"\"\n",
    "    This function gives me the centered second approximation of the derivative.\n",
    "    -----------------\n",
    "    ARGS: \n",
    "        values: array-like of length 5\n",
    "            this contains the initialization points. The tuple is of the following order\n",
    "            (b_now, b_next, r, w, sig)\n",
    "        step: float\n",
    "            this is the 'h' defined in equation above\n",
    "    \n",
    "    RETURN:\n",
    "        this returns the approximation to the derivative\n",
    "    \"\"\"\n",
    "    \n",
    "    # Unpack the values\n",
    "    b_now, b_next, r, w, sig = values\n",
    "    \n",
    "    \n",
    "    # There are two steps in the approximation: an upwarad and downward step\n",
    "    b_now_stepUp = b_now + step\n",
    "    b_now_stepDown = b_now - step\n",
    "    \n",
    "    # Write out the numerator\n",
    "    numerator = MU_lamb(b_now_stepUp, b_next, r, w, sig) - MU_lamb(b_now_stepDown, b_next, r, w, sig)\n",
    "    denom = 2*step\n",
    "    \n",
    "    return(numerator/denom)\n",
    "\n",
    "\n",
    "print(\"Sympoblic Differentiation solution: \", dMU_c(1.0, 0.8, 0.04, 1.2, 2.2))\n",
    "print(\"-------------------------\")\n",
    "print(\"Centered Second Approximation solution (h=0.1): \", dMU_c_approx((1.0, 0.8, 0.04, 1.2, 2.2), 0.1))\n",
    "print(\"Centered Second Approximation solution (h=0.001): \", dMU_c_approx((1.0, 0.8, 0.04, 1.2, 2.2), 0.001))\n",
    "print(\"Centered Second Approximation solution (h=0.00001): \", dMU_c_approx((1.0, 0.8, 0.04, 1.2, 2.2), 0.00001))"
   ]
  },
  {
   "cell_type": "markdown",
   "metadata": {},
   "source": [
    "# 2. Maximum likelihood estimation [10 points total]\n",
    "This exercise will make use of the `MidtermScores.csv` dataset, which contains 97 observations of students' midterm scores $scores_i$ as well as the number of hours they studied for the midterm $hours_i$ and whether the midterm was within a week of Chinese New Year $ch\\_ny_i$.\n",
    "\n",
    "* `scores`: score of $i$th student on midterm\n",
    "* `hours`: number of hours that $i$th student studied for the midterm\n",
    "* `ch_ny`: =1 if the midterm was within a week of Chinese New Year, =0 otherwise\n",
    "\n",
    "You can load these data into Python as a numpy array using the `np.loadtxt()` command."
   ]
  },
  {
   "cell_type": "code",
   "execution_count": 5,
   "metadata": {},
   "outputs": [
    {
     "name": "stdout",
     "output_type": "stream",
     "text": [
      "Shape of the data= (97, 3)\n"
     ]
    }
   ],
   "source": [
    "import numpy as np\n",
    "\n",
    "data = np.loadtxt('MidtermScores.csv', delimiter=',', skiprows=1)\n",
    "print('Shape of the data=', data.shape)\n",
    "scores = data[:, 0]\n",
    "hours = data[:, 1]\n",
    "ch_ny = data[:, 2]"
   ]
  },
  {
   "cell_type": "markdown",
   "metadata": {},
   "source": [
    "Assume that our model of student midterm scores is the following linear model.\n",
    "\n",
    "$$ scores_i = \\beta_0 + \\beta_1 hours_i + \\beta_2 ch\\_ny_i + \\varepsilon_i \\quad\\text{where}\\quad \\varepsilon_i\\sim N(0,\\sigma) $$\n",
    "\n",
    "where the error $\\varepsilon_i$ are normally distributed with mean 0 and standard deviation $\\sigma$."
   ]
  },
  {
   "cell_type": "markdown",
   "metadata": {},
   "source": [
    "## 2a) Log likelihood function [3 points]\n",
    "Define a function named `log_lik` that takes as inputs three data vectors $scores_i$, $hours_i$, $ch\\_ny_i$, three coefficient parameters $\\beta_0$, $\\beta_1$, $\\beta_2$, and the standard deviation $\\sigma$ of the normally distributed errors and returns the log likelihood (a scalar). Print the log likelihood value for the first 10 data observations given all the coefficients are equal to one $\\beta_0, \\beta_1, \\beta_2=1.0$ and the standard deviation of the errors is equal to $\\sigma=0.5$. For the answer to this question, I want to see a function and one scalar log-likelihood value."
   ]
  },
  {
   "cell_type": "code",
   "execution_count": 6,
   "metadata": {},
   "outputs": [
    {
     "name": "stdout",
     "output_type": "stream",
     "text": [
      "-186.8990404522523\n"
     ]
    }
   ],
   "source": [
    "'''\n",
    "From the model provided above, we know that the errors are distributed normally with mean 0 and std sigma\n",
    "Thus, rearranging, we can see\n",
    "\n",
    "    scores - b0 - b1*hours - b2*ch_ny = error ~ N(0, sig)\n",
    "'''\n",
    "\n",
    "# Observe the max score\n",
    "# print(scores.max())\n",
    "\n",
    "# Import dependencies\n",
    "from scipy.stats import norm\n",
    "\n",
    "\n",
    "def log_lik (scores, hours, ch_ny, b0, b1, b2, sig):\n",
    "    \n",
    "    \n",
    "    # Create my epsilon errors\n",
    "    epsilons = scores - b0 - b1*hours - b2*ch_ny\n",
    "    normal_densities = norm.pdf(epsilons, 0, sig)\n",
    "    ln_densities = np.log(normal_densities)\n",
    "    log_likeli = np.sum(ln_densities)\n",
    "    \n",
    "    return(log_likeli)\n",
    "\n",
    "print(log_lik(scores[:10], hours[:10], ch_ny[:10], 1., 1., 1., 0.5))"
   ]
  },
  {
   "cell_type": "markdown",
   "metadata": {},
   "source": [
    "## 2b) Estimate the parameters by MLE [7 points]\n",
    "Estimate the four parameters $\\beta_0, \\beta_1, \\beta_2, \\sigma$ to maximize the log likelihood from part (a). Remember that a minimizer will have to minimize the negative of the log likelihood. Use all 97 observations for this estimation. Use an initial guess of $\\beta_0=10.0$, $\\beta_1=1.0$, $\\beta_2=1.0$, and $\\sigma=$ the standard deviation of the $scores_i$ variable. Report your estimated coefficients $\\beta_0, \\beta_1, \\beta_2$ and standard deviation $\\sigma$. What is the predicted effect on a midterm score of a student who takes the test around Chineses New Year $ch\\_ny_i=1$ versus the score of a student who does not take the test around Chinese New year $ch\\_ny_i=0$, other things being equal?"
   ]
  },
  {
   "cell_type": "code",
   "execution_count": 7,
   "metadata": {},
   "outputs": [
    {
     "name": "stdout",
     "output_type": "stream",
     "text": [
      "Optimization terminated successfully.\n",
      "The MLE estimator for beta0 is 4.750.\n",
      "The MLE estimator for beta1 is 0.716.\n",
      "The MLE estimator for beta2 is -1.891.\n",
      "The MLE estimator for sigma is 0.653.\n",
      "-------------\n",
      "The regression: \n",
      "score = 4.750 + 0.716 * hours + -1.891 * ch_ny + error\n"
     ]
    }
   ],
   "source": [
    "# Import dependencies\n",
    "\n",
    "from scipy import optimize as opt\n",
    "\n",
    "# So I've already gotten the log-likelihood. Normally, we wish to maximize this guy, but it's apparently easier to \n",
    "# minimize. Thus, we need to appeal to the dual of the optmization problem\n",
    "\n",
    "\n",
    "def objective_(params, *args):\n",
    "    b0, b1, b2, sig = params\n",
    "    score, hour, cn = args\n",
    "    return(-log_lik(score, hour, cn, b0, b1, b2, sig))\n",
    "\n",
    "\n",
    "# # Testing the function that Dr.Evans gave us\n",
    "# test_sample = np.array(scipy.stats.norm.rvs(loc=0, scale=2, size=500000))\n",
    "# print(test_sample.var())\n",
    "# # Close enough. But array.std gives me the stdev instead of variance. so i'll go with std\n",
    "\n",
    "\n",
    "arguments = (scores, hours, ch_ny)\n",
    "params_init = (10., 1., 1., scores.std())\n",
    "\n",
    "results_uncstr = opt.minimize(objective_, params_init, arguments)\n",
    "\n",
    "print(results_uncstr.message)\n",
    "\n",
    "\n",
    "list_param = ['beta0', 'beta1', 'beta2', 'sigma']\n",
    "for ind in range(len(results_uncstr.x)):\n",
    "    print(\"The MLE estimator for %s is %0.3f.\" %(list_param[ind], results_uncstr.x[ind]))\n",
    "    \n",
    "    \n",
    "# Update my the regression using the proper coefficients\n",
    "b0, b1, b2, sig = results_uncstr.x\n",
    "print(\"-------------\")\n",
    "print(\"The regression: \")\n",
    "print(\"score = %0.3f + %0.3f * hours + %0.3f * ch_ny + error\"%(b0, b1, b2))"
   ]
  },
  {
   "cell_type": "markdown",
   "metadata": {},
   "source": [
    "From the above equation, we see that if it is Chinese New Year (ch_ny=1), we'd see a drop in 1.89 points for the student's scores. In input[6], I observed the maximum score for the dataset, it returned 19.32...Thus, it's logical to assume that the maximum score for the midterm was 20. Thus, a 1.89 drop in the scores is a decrease of 9.45%. That's quite significant. "
   ]
  }
 ],
 "metadata": {
  "kernelspec": {
   "display_name": "Python 3",
   "language": "python",
   "name": "python3"
  },
  "language_info": {
   "codemirror_mode": {
    "name": "ipython",
    "version": 3
   },
   "file_extension": ".py",
   "mimetype": "text/x-python",
   "name": "python",
   "nbconvert_exporter": "python",
   "pygments_lexer": "ipython3",
   "version": "3.7.2"
  }
 },
 "nbformat": 4,
 "nbformat_minor": 2
}
